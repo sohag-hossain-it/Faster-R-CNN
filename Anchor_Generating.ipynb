{
  "nbformat": 4,
  "nbformat_minor": 0,
  "metadata": {
    "colab": {
      "name": "Anchor Generating.ipynb",
      "provenance": [],
      "collapsed_sections": []
    },
    "kernelspec": {
      "name": "python3",
      "display_name": "Python 3"
    }
  },
  "cells": [
    {
      "cell_type": "code",
      "metadata": {
        "id": "NSC2eXG2OlAD"
      },
      "source": [
        "###  *******************************\n",
        "#https://upscfever.com/upsc-fever/en/data/deeplearning4/22.html"
      ],
      "execution_count": null,
      "outputs": []
    },
    {
      "cell_type": "code",
      "metadata": {
        "id": "NunhK2ClJbPH"
      },
      "source": [
        "#https://leimao.github.io/blog/Bounding-Box-Encoding-Decoding/\n",
        "#https://www.wovenware.com/blog/2020/06/anchor-boxes-in-object-detection-when-where-and-how-to-propose-them-for-deep-learning-apps/\n",
        "#https://d2l.ai/chapter_computer-vision/anchor.html\n",
        "#https://www.wovenware.com/blog/2020/06/anchor-boxes-in-object-detection-when-where-and-how-to-propose-them-for-deep-learning-apps/\n",
        "#https://www.kdnuggets.com/2018/05/implement-yolo-v3-object-detector-pytorch-part-1.html\n",
        "\n"
      ],
      "execution_count": null,
      "outputs": []
    },
    {
      "cell_type": "code",
      "metadata": {
        "colab": {
          "base_uri": "https://localhost:8080/"
        },
        "id": "w0MUUqhlJeOS",
        "outputId": "cf43db8e-7fea-4f74-be1f-93c87b6e1b2b"
      },
      "source": [
        "from google.colab import drive\n",
        "drive.mount('/Anchor')"
      ],
      "execution_count": null,
      "outputs": [
        {
          "output_type": "stream",
          "text": [
            "Drive already mounted at /Anchor; to attempt to forcibly remount, call drive.mount(\"/Anchor\", force_remount=True).\n"
          ],
          "name": "stdout"
        }
      ]
    },
    {
      "cell_type": "code",
      "metadata": {
        "colab": {
          "base_uri": "https://localhost:8080/"
        },
        "id": "r1n8mPM0JeSR",
        "outputId": "492eace0-ee58-454f-d407-64f243fe0fbb"
      },
      "source": [
        "#### must do it ###########\n",
        "!pip install d2l==0.16.1"
      ],
      "execution_count": null,
      "outputs": [
        {
          "output_type": "stream",
          "text": [
            "Collecting d2l==0.16.1\n",
            "\u001b[?25l  Downloading https://files.pythonhosted.org/packages/30/2b/3515cd6f2898bf95306a5c58b065aeb045fdc25516f2b68b0f8409e320c3/d2l-0.16.1-py3-none-any.whl (76kB)\n",
            "\r\u001b[K     |████▎                           | 10kB 17.6MB/s eta 0:00:01\r\u001b[K     |████████▌                       | 20kB 13.0MB/s eta 0:00:01\r\u001b[K     |████████████▉                   | 30kB 8.4MB/s eta 0:00:01\r\u001b[K     |█████████████████               | 40kB 8.0MB/s eta 0:00:01\r\u001b[K     |█████████████████████▍          | 51kB 4.8MB/s eta 0:00:01\r\u001b[K     |█████████████████████████▋      | 61kB 5.2MB/s eta 0:00:01\r\u001b[K     |██████████████████████████████  | 71kB 5.6MB/s eta 0:00:01\r\u001b[K     |████████████████████████████████| 81kB 4.0MB/s \n",
            "\u001b[?25hRequirement already satisfied: numpy in /usr/local/lib/python3.7/dist-packages (from d2l==0.16.1) (1.19.5)\n",
            "Requirement already satisfied: pandas in /usr/local/lib/python3.7/dist-packages (from d2l==0.16.1) (1.1.5)\n",
            "Requirement already satisfied: jupyter in /usr/local/lib/python3.7/dist-packages (from d2l==0.16.1) (1.0.0)\n",
            "Requirement already satisfied: matplotlib in /usr/local/lib/python3.7/dist-packages (from d2l==0.16.1) (3.2.2)\n",
            "Requirement already satisfied: pytz>=2017.2 in /usr/local/lib/python3.7/dist-packages (from pandas->d2l==0.16.1) (2018.9)\n",
            "Requirement already satisfied: python-dateutil>=2.7.3 in /usr/local/lib/python3.7/dist-packages (from pandas->d2l==0.16.1) (2.8.1)\n",
            "Requirement already satisfied: ipykernel in /usr/local/lib/python3.7/dist-packages (from jupyter->d2l==0.16.1) (4.10.1)\n",
            "Requirement already satisfied: jupyter-console in /usr/local/lib/python3.7/dist-packages (from jupyter->d2l==0.16.1) (5.2.0)\n",
            "Requirement already satisfied: qtconsole in /usr/local/lib/python3.7/dist-packages (from jupyter->d2l==0.16.1) (5.0.3)\n",
            "Requirement already satisfied: ipywidgets in /usr/local/lib/python3.7/dist-packages (from jupyter->d2l==0.16.1) (7.6.3)\n",
            "Requirement already satisfied: notebook in /usr/local/lib/python3.7/dist-packages (from jupyter->d2l==0.16.1) (5.3.1)\n",
            "Requirement already satisfied: nbconvert in /usr/local/lib/python3.7/dist-packages (from jupyter->d2l==0.16.1) (5.6.1)\n",
            "Requirement already satisfied: cycler>=0.10 in /usr/local/lib/python3.7/dist-packages (from matplotlib->d2l==0.16.1) (0.10.0)\n",
            "Requirement already satisfied: kiwisolver>=1.0.1 in /usr/local/lib/python3.7/dist-packages (from matplotlib->d2l==0.16.1) (1.3.1)\n",
            "Requirement already satisfied: pyparsing!=2.0.4,!=2.1.2,!=2.1.6,>=2.0.1 in /usr/local/lib/python3.7/dist-packages (from matplotlib->d2l==0.16.1) (2.4.7)\n",
            "Requirement already satisfied: six>=1.5 in /usr/local/lib/python3.7/dist-packages (from python-dateutil>=2.7.3->pandas->d2l==0.16.1) (1.15.0)\n",
            "Requirement already satisfied: ipython>=4.0.0 in /usr/local/lib/python3.7/dist-packages (from ipykernel->jupyter->d2l==0.16.1) (5.5.0)\n",
            "Requirement already satisfied: traitlets>=4.1.0 in /usr/local/lib/python3.7/dist-packages (from ipykernel->jupyter->d2l==0.16.1) (5.0.5)\n",
            "Requirement already satisfied: jupyter-client in /usr/local/lib/python3.7/dist-packages (from ipykernel->jupyter->d2l==0.16.1) (5.3.5)\n",
            "Requirement already satisfied: tornado>=4.0 in /usr/local/lib/python3.7/dist-packages (from ipykernel->jupyter->d2l==0.16.1) (5.1.1)\n",
            "Requirement already satisfied: pygments in /usr/local/lib/python3.7/dist-packages (from jupyter-console->jupyter->d2l==0.16.1) (2.6.1)\n",
            "Requirement already satisfied: prompt-toolkit<2.0.0,>=1.0.0 in /usr/local/lib/python3.7/dist-packages (from jupyter-console->jupyter->d2l==0.16.1) (1.0.18)\n",
            "Requirement already satisfied: qtpy in /usr/local/lib/python3.7/dist-packages (from qtconsole->jupyter->d2l==0.16.1) (1.9.0)\n",
            "Requirement already satisfied: ipython-genutils in /usr/local/lib/python3.7/dist-packages (from qtconsole->jupyter->d2l==0.16.1) (0.2.0)\n",
            "Requirement already satisfied: jupyter-core in /usr/local/lib/python3.7/dist-packages (from qtconsole->jupyter->d2l==0.16.1) (4.7.1)\n",
            "Requirement already satisfied: pyzmq>=17.1 in /usr/local/lib/python3.7/dist-packages (from qtconsole->jupyter->d2l==0.16.1) (22.0.3)\n",
            "Requirement already satisfied: jupyterlab-widgets>=1.0.0; python_version >= \"3.6\" in /usr/local/lib/python3.7/dist-packages (from ipywidgets->jupyter->d2l==0.16.1) (1.0.0)\n",
            "Requirement already satisfied: nbformat>=4.2.0 in /usr/local/lib/python3.7/dist-packages (from ipywidgets->jupyter->d2l==0.16.1) (5.1.3)\n",
            "Requirement already satisfied: widgetsnbextension~=3.5.0 in /usr/local/lib/python3.7/dist-packages (from ipywidgets->jupyter->d2l==0.16.1) (3.5.1)\n",
            "Requirement already satisfied: Send2Trash in /usr/local/lib/python3.7/dist-packages (from notebook->jupyter->d2l==0.16.1) (1.5.0)\n",
            "Requirement already satisfied: jinja2 in /usr/local/lib/python3.7/dist-packages (from notebook->jupyter->d2l==0.16.1) (2.11.3)\n",
            "Requirement already satisfied: terminado>=0.8.1 in /usr/local/lib/python3.7/dist-packages (from notebook->jupyter->d2l==0.16.1) (0.9.4)\n",
            "Requirement already satisfied: bleach in /usr/local/lib/python3.7/dist-packages (from nbconvert->jupyter->d2l==0.16.1) (3.3.0)\n",
            "Requirement already satisfied: defusedxml in /usr/local/lib/python3.7/dist-packages (from nbconvert->jupyter->d2l==0.16.1) (0.7.1)\n",
            "Requirement already satisfied: mistune<2,>=0.8.1 in /usr/local/lib/python3.7/dist-packages (from nbconvert->jupyter->d2l==0.16.1) (0.8.4)\n",
            "Requirement already satisfied: entrypoints>=0.2.2 in /usr/local/lib/python3.7/dist-packages (from nbconvert->jupyter->d2l==0.16.1) (0.3)\n",
            "Requirement already satisfied: pandocfilters>=1.4.1 in /usr/local/lib/python3.7/dist-packages (from nbconvert->jupyter->d2l==0.16.1) (1.4.3)\n",
            "Requirement already satisfied: testpath in /usr/local/lib/python3.7/dist-packages (from nbconvert->jupyter->d2l==0.16.1) (0.4.4)\n",
            "Requirement already satisfied: pickleshare in /usr/local/lib/python3.7/dist-packages (from ipython>=4.0.0->ipykernel->jupyter->d2l==0.16.1) (0.7.5)\n",
            "Requirement already satisfied: decorator in /usr/local/lib/python3.7/dist-packages (from ipython>=4.0.0->ipykernel->jupyter->d2l==0.16.1) (4.4.2)\n",
            "Requirement already satisfied: setuptools>=18.5 in /usr/local/lib/python3.7/dist-packages (from ipython>=4.0.0->ipykernel->jupyter->d2l==0.16.1) (56.0.0)\n",
            "Requirement already satisfied: pexpect; sys_platform != \"win32\" in /usr/local/lib/python3.7/dist-packages (from ipython>=4.0.0->ipykernel->jupyter->d2l==0.16.1) (4.8.0)\n",
            "Requirement already satisfied: simplegeneric>0.8 in /usr/local/lib/python3.7/dist-packages (from ipython>=4.0.0->ipykernel->jupyter->d2l==0.16.1) (0.8.1)\n",
            "Requirement already satisfied: wcwidth in /usr/local/lib/python3.7/dist-packages (from prompt-toolkit<2.0.0,>=1.0.0->jupyter-console->jupyter->d2l==0.16.1) (0.2.5)\n",
            "Requirement already satisfied: jsonschema!=2.5.0,>=2.4 in /usr/local/lib/python3.7/dist-packages (from nbformat>=4.2.0->ipywidgets->jupyter->d2l==0.16.1) (2.6.0)\n",
            "Requirement already satisfied: MarkupSafe>=0.23 in /usr/local/lib/python3.7/dist-packages (from jinja2->notebook->jupyter->d2l==0.16.1) (1.1.1)\n",
            "Requirement already satisfied: ptyprocess; os_name != \"nt\" in /usr/local/lib/python3.7/dist-packages (from terminado>=0.8.1->notebook->jupyter->d2l==0.16.1) (0.7.0)\n",
            "Requirement already satisfied: packaging in /usr/local/lib/python3.7/dist-packages (from bleach->nbconvert->jupyter->d2l==0.16.1) (20.9)\n",
            "Requirement already satisfied: webencodings in /usr/local/lib/python3.7/dist-packages (from bleach->nbconvert->jupyter->d2l==0.16.1) (0.5.1)\n",
            "Installing collected packages: d2l\n",
            "Successfully installed d2l-0.16.1\n"
          ],
          "name": "stdout"
        }
      ]
    },
    {
      "cell_type": "code",
      "metadata": {
        "colab": {
          "base_uri": "https://localhost:8080/"
        },
        "id": "6Gcnf5awMF2m",
        "outputId": "32b8f247-a208-42c0-e668-c4cd8c32663f"
      },
      "source": [
        "############### must do it #####################\n",
        "!pip install -U mxnet-cu101==1.7.0"
      ],
      "execution_count": null,
      "outputs": [
        {
          "output_type": "stream",
          "text": [
            "Collecting mxnet-cu101==1.7.0\n",
            "\u001b[?25l  Downloading https://files.pythonhosted.org/packages/40/26/9655677b901537f367c3c473376e4106abc72e01a8fc25b1cb6ed9c37e8c/mxnet_cu101-1.7.0-py2.py3-none-manylinux2014_x86_64.whl (846.0MB)\n",
            "\u001b[K     |███████████████████████████████▌| 834.1MB 1.3MB/s eta 0:00:09tcmalloc: large alloc 1147494400 bytes == 0x55cde687e000 @  0x7fec1386e615 0x55cdada3806c 0x55cdadb17eba 0x55cdada3ae8d 0x55cdadb2c99d 0x55cdadaaefe9 0x55cdadaa9b0e 0x55cdada3c77a 0x55cdadaaee50 0x55cdadaa9b0e 0x55cdada3c77a 0x55cdadaab86a 0x55cdadb2d7c6 0x55cdadaaaee2 0x55cdadb2d7c6 0x55cdadaaaee2 0x55cdadb2d7c6 0x55cdadaaaee2 0x55cdadb2d7c6 0x55cdadaaaee2 0x55cdada3c69a 0x55cdadaaac9e 0x55cdadaa9e0d 0x55cdada3c77a 0x55cdadaaaa45 0x55cdada3c69a 0x55cdadaaaa45 0x55cdadaa9b0e 0x55cdada3c77a 0x55cdadaab86a 0x55cdadaa9b0e\n",
            "\u001b[K     |████████████████████████████████| 846.0MB 12kB/s \n",
            "\u001b[?25hRequirement already satisfied, skipping upgrade: numpy<2.0.0,>1.16.0 in /usr/local/lib/python3.7/dist-packages (from mxnet-cu101==1.7.0) (1.19.5)\n",
            "Requirement already satisfied, skipping upgrade: requests<3,>=2.20.0 in /usr/local/lib/python3.7/dist-packages (from mxnet-cu101==1.7.0) (2.23.0)\n",
            "Collecting graphviz<0.9.0,>=0.8.1\n",
            "  Downloading https://files.pythonhosted.org/packages/53/39/4ab213673844e0c004bed8a0781a0721a3f6bb23eb8854ee75c236428892/graphviz-0.8.4-py2.py3-none-any.whl\n",
            "Requirement already satisfied, skipping upgrade: idna<3,>=2.5 in /usr/local/lib/python3.7/dist-packages (from requests<3,>=2.20.0->mxnet-cu101==1.7.0) (2.10)\n",
            "Requirement already satisfied, skipping upgrade: chardet<4,>=3.0.2 in /usr/local/lib/python3.7/dist-packages (from requests<3,>=2.20.0->mxnet-cu101==1.7.0) (3.0.4)\n",
            "Requirement already satisfied, skipping upgrade: urllib3!=1.25.0,!=1.25.1,<1.26,>=1.21.1 in /usr/local/lib/python3.7/dist-packages (from requests<3,>=2.20.0->mxnet-cu101==1.7.0) (1.24.3)\n",
            "Requirement already satisfied, skipping upgrade: certifi>=2017.4.17 in /usr/local/lib/python3.7/dist-packages (from requests<3,>=2.20.0->mxnet-cu101==1.7.0) (2020.12.5)\n",
            "Installing collected packages: graphviz, mxnet-cu101\n",
            "  Found existing installation: graphviz 0.10.1\n",
            "    Uninstalling graphviz-0.10.1:\n",
            "      Successfully uninstalled graphviz-0.10.1\n",
            "Successfully installed graphviz-0.8.4 mxnet-cu101-1.7.0\n"
          ],
          "name": "stdout"
        }
      ]
    },
    {
      "cell_type": "code",
      "metadata": {
        "id": "gtG9I5IkJeWW"
      },
      "source": [
        "%matplotlib inline\n",
        "from d2l import torch as d2l\n",
        "import torch\n",
        "import cv2\n",
        "from numpy import random\n",
        "import matplotlib.pyplot as plt\n",
        "import seaborn as sns\n",
        "from mxnet import gluon,np,npx,image\n",
        "import numpy\n",
        "\n",
        "np.set_printoptions(2)\n",
        "npx.set_np()"
      ],
      "execution_count": null,
      "outputs": []
    },
    {
      "cell_type": "code",
      "metadata": {
        "colab": {
          "base_uri": "https://localhost:8080/",
          "height": 266
        },
        "id": "0Pp9HECwJeab",
        "outputId": "45200085-d1bc-4b0c-b0b3-f65a235d0f85"
      },
      "source": [
        "d2l.set_figsize()\n",
        "path='/Anchor/MyDrive/faster_RCNN/catdog.jpg'\n",
        "img = image.imread(path).asnumpy()\n",
        "plt.imshow(img)\n",
        "#print('img : \\n',img)"
      ],
      "execution_count": null,
      "outputs": [
        {
          "output_type": "execute_result",
          "data": {
            "text/plain": [
              "<matplotlib.image.AxesImage at 0x7f5998af3f10>"
            ]
          },
          "metadata": {
            "tags": []
          },
          "execution_count": 8
        },
        {
          "output_type": "display_data",
          "data": {
            "text/plain": [
              "<Figure size 252x180 with 1 Axes>"
            ],
            "image/svg+xml": "<?xml version=\"1.0\" encoding=\"utf-8\" standalone=\"no\"?>\n<!DOCTYPE svg PUBLIC \"-//W3C//DTD SVG 1.1//EN\"\n  \"http://www.w3.org/Graphics/SVG/1.1/DTD/svg11.dtd\">\n<!-- Created with matplotlib (https://matplotlib.org/) -->\n<svg height=\"170.656221pt\" version=\"1.1\" viewBox=\"0 0 216.84258 170.656221\" width=\"216.84258pt\" xmlns=\"http://www.w3.org/2000/svg\" xmlns:xlink=\"http://www.w3.org/1999/xlink\">\n <defs>\n  <style type=\"text/css\">\n*{stroke-linecap:butt;stroke-linejoin:round;}\n  </style>\n </defs>\n <g id=\"figure_1\">\n  <g id=\"patch_1\">\n   <path d=\"M 0 170.656221 \nL 216.84258 170.656221 \nL 216.84258 0 \nL 0 0 \nz\n\" style=\"fill:none;\"/>\n  </g>\n  <g id=\"axes_1\">\n   <g id=\"patch_2\">\n    <path d=\"M 33.2875 146.778096 \nL 209.64258 146.778096 \nL 209.64258 10.878096 \nL 33.2875 10.878096 \nz\n\" style=\"fill:#ffffff;\"/>\n   </g>\n   <g clip-path=\"url(#pfd69872559)\">\n    <image height=\"136\" id=\"imageb32aafd792\" transform=\"scale(1 -1)translate(0 -136)\" width=\"177\" x=\"33.2875\" xlink:href=\"data:image/png;base64,\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\" y=\"-10.778096\"/>\n   </g>\n   <g id=\"matplotlib.axis_1\">\n    <g id=\"xtick_1\">\n     <g id=\"line2d_1\">\n      <defs>\n       <path d=\"M 0 0 \nL 0 3.5 \n\" id=\"m6c03e66931\" style=\"stroke:#000000;stroke-width:0.8;\"/>\n      </defs>\n      <g>\n       <use style=\"stroke:#000000;stroke-width:0.8;\" x=\"33.408623\" xlink:href=\"#m6c03e66931\" y=\"146.778096\"/>\n      </g>\n     </g>\n     <g id=\"text_1\">\n      <!-- 0 -->\n      <defs>\n       <path d=\"M 31.78125 66.40625 \nQ 24.171875 66.40625 20.328125 58.90625 \nQ 16.5 51.421875 16.5 36.375 \nQ 16.5 21.390625 20.328125 13.890625 \nQ 24.171875 6.390625 31.78125 6.390625 \nQ 39.453125 6.390625 43.28125 13.890625 \nQ 47.125 21.390625 47.125 36.375 \nQ 47.125 51.421875 43.28125 58.90625 \nQ 39.453125 66.40625 31.78125 66.40625 \nz\nM 31.78125 74.21875 \nQ 44.046875 74.21875 50.515625 64.515625 \nQ 56.984375 54.828125 56.984375 36.375 \nQ 56.984375 17.96875 50.515625 8.265625 \nQ 44.046875 -1.421875 31.78125 -1.421875 \nQ 19.53125 -1.421875 13.0625 8.265625 \nQ 6.59375 17.96875 6.59375 36.375 \nQ 6.59375 54.828125 13.0625 64.515625 \nQ 19.53125 74.21875 31.78125 74.21875 \nz\n\" id=\"DejaVuSans-48\"/>\n      </defs>\n      <g transform=\"translate(30.227373 161.376533)scale(0.1 -0.1)\">\n       <use xlink:href=\"#DejaVuSans-48\"/>\n      </g>\n     </g>\n    </g>\n    <g id=\"xtick_2\">\n     <g id=\"line2d_2\">\n      <g>\n       <use style=\"stroke:#000000;stroke-width:0.8;\" x=\"81.857821\" xlink:href=\"#m6c03e66931\" y=\"146.778096\"/>\n      </g>\n     </g>\n     <g id=\"text_2\">\n      <!-- 200 -->\n      <defs>\n       <path d=\"M 19.1875 8.296875 \nL 53.609375 8.296875 \nL 53.609375 0 \nL 7.328125 0 \nL 7.328125 8.296875 \nQ 12.9375 14.109375 22.625 23.890625 \nQ 32.328125 33.6875 34.8125 36.53125 \nQ 39.546875 41.84375 41.421875 45.53125 \nQ 43.3125 49.21875 43.3125 52.78125 \nQ 43.3125 58.59375 39.234375 62.25 \nQ 35.15625 65.921875 28.609375 65.921875 \nQ 23.96875 65.921875 18.8125 64.3125 \nQ 13.671875 62.703125 7.8125 59.421875 \nL 7.8125 69.390625 \nQ 13.765625 71.78125 18.9375 73 \nQ 24.125 74.21875 28.421875 74.21875 \nQ 39.75 74.21875 46.484375 68.546875 \nQ 53.21875 62.890625 53.21875 53.421875 \nQ 53.21875 48.921875 51.53125 44.890625 \nQ 49.859375 40.875 45.40625 35.40625 \nQ 44.1875 33.984375 37.640625 27.21875 \nQ 31.109375 20.453125 19.1875 8.296875 \nz\n\" id=\"DejaVuSans-50\"/>\n      </defs>\n      <g transform=\"translate(72.314071 161.376533)scale(0.1 -0.1)\">\n       <use xlink:href=\"#DejaVuSans-50\"/>\n       <use x=\"63.623047\" xlink:href=\"#DejaVuSans-48\"/>\n       <use x=\"127.246094\" xlink:href=\"#DejaVuSans-48\"/>\n      </g>\n     </g>\n    </g>\n    <g id=\"xtick_3\">\n     <g id=\"line2d_3\">\n      <g>\n       <use style=\"stroke:#000000;stroke-width:0.8;\" x=\"130.307019\" xlink:href=\"#m6c03e66931\" y=\"146.778096\"/>\n      </g>\n     </g>\n     <g id=\"text_3\">\n      <!-- 400 -->\n      <defs>\n       <path d=\"M 37.796875 64.3125 \nL 12.890625 25.390625 \nL 37.796875 25.390625 \nz\nM 35.203125 72.90625 \nL 47.609375 72.90625 \nL 47.609375 25.390625 \nL 58.015625 25.390625 \nL 58.015625 17.1875 \nL 47.609375 17.1875 \nL 47.609375 0 \nL 37.796875 0 \nL 37.796875 17.1875 \nL 4.890625 17.1875 \nL 4.890625 26.703125 \nz\n\" id=\"DejaVuSans-52\"/>\n      </defs>\n      <g transform=\"translate(120.763269 161.376533)scale(0.1 -0.1)\">\n       <use xlink:href=\"#DejaVuSans-52\"/>\n       <use x=\"63.623047\" xlink:href=\"#DejaVuSans-48\"/>\n       <use x=\"127.246094\" xlink:href=\"#DejaVuSans-48\"/>\n      </g>\n     </g>\n    </g>\n    <g id=\"xtick_4\">\n     <g id=\"line2d_4\">\n      <g>\n       <use style=\"stroke:#000000;stroke-width:0.8;\" x=\"178.756217\" xlink:href=\"#m6c03e66931\" y=\"146.778096\"/>\n      </g>\n     </g>\n     <g id=\"text_4\">\n      <!-- 600 -->\n      <defs>\n       <path d=\"M 33.015625 40.375 \nQ 26.375 40.375 22.484375 35.828125 \nQ 18.609375 31.296875 18.609375 23.390625 \nQ 18.609375 15.53125 22.484375 10.953125 \nQ 26.375 6.390625 33.015625 6.390625 \nQ 39.65625 6.390625 43.53125 10.953125 \nQ 47.40625 15.53125 47.40625 23.390625 \nQ 47.40625 31.296875 43.53125 35.828125 \nQ 39.65625 40.375 33.015625 40.375 \nz\nM 52.59375 71.296875 \nL 52.59375 62.3125 \nQ 48.875 64.0625 45.09375 64.984375 \nQ 41.3125 65.921875 37.59375 65.921875 \nQ 27.828125 65.921875 22.671875 59.328125 \nQ 17.53125 52.734375 16.796875 39.40625 \nQ 19.671875 43.65625 24.015625 45.921875 \nQ 28.375 48.1875 33.59375 48.1875 \nQ 44.578125 48.1875 50.953125 41.515625 \nQ 57.328125 34.859375 57.328125 23.390625 \nQ 57.328125 12.15625 50.6875 5.359375 \nQ 44.046875 -1.421875 33.015625 -1.421875 \nQ 20.359375 -1.421875 13.671875 8.265625 \nQ 6.984375 17.96875 6.984375 36.375 \nQ 6.984375 53.65625 15.1875 63.9375 \nQ 23.390625 74.21875 37.203125 74.21875 \nQ 40.921875 74.21875 44.703125 73.484375 \nQ 48.484375 72.75 52.59375 71.296875 \nz\n\" id=\"DejaVuSans-54\"/>\n      </defs>\n      <g transform=\"translate(169.212467 161.376533)scale(0.1 -0.1)\">\n       <use xlink:href=\"#DejaVuSans-54\"/>\n       <use x=\"63.623047\" xlink:href=\"#DejaVuSans-48\"/>\n       <use x=\"127.246094\" xlink:href=\"#DejaVuSans-48\"/>\n      </g>\n     </g>\n    </g>\n   </g>\n   <g id=\"matplotlib.axis_2\">\n    <g id=\"ytick_1\">\n     <g id=\"line2d_5\">\n      <defs>\n       <path d=\"M 0 0 \nL -3.5 0 \n\" id=\"m98955a2dbf\" style=\"stroke:#000000;stroke-width:0.8;\"/>\n      </defs>\n      <g>\n       <use style=\"stroke:#000000;stroke-width:0.8;\" x=\"33.2875\" xlink:href=\"#m98955a2dbf\" y=\"10.999219\"/>\n      </g>\n     </g>\n     <g id=\"text_5\">\n      <!-- 0 -->\n      <g transform=\"translate(19.925 14.798437)scale(0.1 -0.1)\">\n       <use xlink:href=\"#DejaVuSans-48\"/>\n      </g>\n     </g>\n    </g>\n    <g id=\"ytick_2\">\n     <g id=\"line2d_6\">\n      <g>\n       <use style=\"stroke:#000000;stroke-width:0.8;\" x=\"33.2875\" xlink:href=\"#m98955a2dbf\" y=\"35.223818\"/>\n      </g>\n     </g>\n     <g id=\"text_6\">\n      <!-- 100 -->\n      <defs>\n       <path d=\"M 12.40625 8.296875 \nL 28.515625 8.296875 \nL 28.515625 63.921875 \nL 10.984375 60.40625 \nL 10.984375 69.390625 \nL 28.421875 72.90625 \nL 38.28125 72.90625 \nL 38.28125 8.296875 \nL 54.390625 8.296875 \nL 54.390625 0 \nL 12.40625 0 \nz\n\" id=\"DejaVuSans-49\"/>\n      </defs>\n      <g transform=\"translate(7.2 39.023036)scale(0.1 -0.1)\">\n       <use xlink:href=\"#DejaVuSans-49\"/>\n       <use x=\"63.623047\" xlink:href=\"#DejaVuSans-48\"/>\n       <use x=\"127.246094\" xlink:href=\"#DejaVuSans-48\"/>\n      </g>\n     </g>\n    </g>\n    <g id=\"ytick_3\">\n     <g id=\"line2d_7\">\n      <g>\n       <use style=\"stroke:#000000;stroke-width:0.8;\" x=\"33.2875\" xlink:href=\"#m98955a2dbf\" y=\"59.448417\"/>\n      </g>\n     </g>\n     <g id=\"text_7\">\n      <!-- 200 -->\n      <g transform=\"translate(7.2 63.247635)scale(0.1 -0.1)\">\n       <use xlink:href=\"#DejaVuSans-50\"/>\n       <use x=\"63.623047\" xlink:href=\"#DejaVuSans-48\"/>\n       <use x=\"127.246094\" xlink:href=\"#DejaVuSans-48\"/>\n      </g>\n     </g>\n    </g>\n    <g id=\"ytick_4\">\n     <g id=\"line2d_8\">\n      <g>\n       <use style=\"stroke:#000000;stroke-width:0.8;\" x=\"33.2875\" xlink:href=\"#m98955a2dbf\" y=\"83.673016\"/>\n      </g>\n     </g>\n     <g id=\"text_8\">\n      <!-- 300 -->\n      <defs>\n       <path d=\"M 40.578125 39.3125 \nQ 47.65625 37.796875 51.625 33 \nQ 55.609375 28.21875 55.609375 21.1875 \nQ 55.609375 10.40625 48.1875 4.484375 \nQ 40.765625 -1.421875 27.09375 -1.421875 \nQ 22.515625 -1.421875 17.65625 -0.515625 \nQ 12.796875 0.390625 7.625 2.203125 \nL 7.625 11.71875 \nQ 11.71875 9.328125 16.59375 8.109375 \nQ 21.484375 6.890625 26.8125 6.890625 \nQ 36.078125 6.890625 40.9375 10.546875 \nQ 45.796875 14.203125 45.796875 21.1875 \nQ 45.796875 27.640625 41.28125 31.265625 \nQ 36.765625 34.90625 28.71875 34.90625 \nL 20.21875 34.90625 \nL 20.21875 43.015625 \nL 29.109375 43.015625 \nQ 36.375 43.015625 40.234375 45.921875 \nQ 44.09375 48.828125 44.09375 54.296875 \nQ 44.09375 59.90625 40.109375 62.90625 \nQ 36.140625 65.921875 28.71875 65.921875 \nQ 24.65625 65.921875 20.015625 65.03125 \nQ 15.375 64.15625 9.8125 62.3125 \nL 9.8125 71.09375 \nQ 15.4375 72.65625 20.34375 73.4375 \nQ 25.25 74.21875 29.59375 74.21875 \nQ 40.828125 74.21875 47.359375 69.109375 \nQ 53.90625 64.015625 53.90625 55.328125 \nQ 53.90625 49.265625 50.4375 45.09375 \nQ 46.96875 40.921875 40.578125 39.3125 \nz\n\" id=\"DejaVuSans-51\"/>\n      </defs>\n      <g transform=\"translate(7.2 87.472234)scale(0.1 -0.1)\">\n       <use xlink:href=\"#DejaVuSans-51\"/>\n       <use x=\"63.623047\" xlink:href=\"#DejaVuSans-48\"/>\n       <use x=\"127.246094\" xlink:href=\"#DejaVuSans-48\"/>\n      </g>\n     </g>\n    </g>\n    <g id=\"ytick_5\">\n     <g id=\"line2d_9\">\n      <g>\n       <use style=\"stroke:#000000;stroke-width:0.8;\" x=\"33.2875\" xlink:href=\"#m98955a2dbf\" y=\"107.897614\"/>\n      </g>\n     </g>\n     <g id=\"text_9\">\n      <!-- 400 -->\n      <g transform=\"translate(7.2 111.696833)scale(0.1 -0.1)\">\n       <use xlink:href=\"#DejaVuSans-52\"/>\n       <use x=\"63.623047\" xlink:href=\"#DejaVuSans-48\"/>\n       <use x=\"127.246094\" xlink:href=\"#DejaVuSans-48\"/>\n      </g>\n     </g>\n    </g>\n    <g id=\"ytick_6\">\n     <g id=\"line2d_10\">\n      <g>\n       <use style=\"stroke:#000000;stroke-width:0.8;\" x=\"33.2875\" xlink:href=\"#m98955a2dbf\" y=\"132.122213\"/>\n      </g>\n     </g>\n     <g id=\"text_10\">\n      <!-- 500 -->\n      <defs>\n       <path d=\"M 10.796875 72.90625 \nL 49.515625 72.90625 \nL 49.515625 64.59375 \nL 19.828125 64.59375 \nL 19.828125 46.734375 \nQ 21.96875 47.46875 24.109375 47.828125 \nQ 26.265625 48.1875 28.421875 48.1875 \nQ 40.625 48.1875 47.75 41.5 \nQ 54.890625 34.8125 54.890625 23.390625 \nQ 54.890625 11.625 47.5625 5.09375 \nQ 40.234375 -1.421875 26.90625 -1.421875 \nQ 22.3125 -1.421875 17.546875 -0.640625 \nQ 12.796875 0.140625 7.71875 1.703125 \nL 7.71875 11.625 \nQ 12.109375 9.234375 16.796875 8.0625 \nQ 21.484375 6.890625 26.703125 6.890625 \nQ 35.15625 6.890625 40.078125 11.328125 \nQ 45.015625 15.765625 45.015625 23.390625 \nQ 45.015625 31 40.078125 35.4375 \nQ 35.15625 39.890625 26.703125 39.890625 \nQ 22.75 39.890625 18.8125 39.015625 \nQ 14.890625 38.140625 10.796875 36.28125 \nz\n\" id=\"DejaVuSans-53\"/>\n      </defs>\n      <g transform=\"translate(7.2 135.921432)scale(0.1 -0.1)\">\n       <use xlink:href=\"#DejaVuSans-53\"/>\n       <use x=\"63.623047\" xlink:href=\"#DejaVuSans-48\"/>\n       <use x=\"127.246094\" xlink:href=\"#DejaVuSans-48\"/>\n      </g>\n     </g>\n    </g>\n   </g>\n   <g id=\"patch_3\">\n    <path d=\"M 33.2875 146.778096 \nL 33.2875 10.878096 \n\" style=\"fill:none;stroke:#000000;stroke-linecap:square;stroke-linejoin:miter;stroke-width:0.8;\"/>\n   </g>\n   <g id=\"patch_4\">\n    <path d=\"M 209.64258 146.778096 \nL 209.64258 10.878096 \n\" style=\"fill:none;stroke:#000000;stroke-linecap:square;stroke-linejoin:miter;stroke-width:0.8;\"/>\n   </g>\n   <g id=\"patch_5\">\n    <path d=\"M 33.2875 146.778096 \nL 209.64258 146.778096 \n\" style=\"fill:none;stroke:#000000;stroke-linecap:square;stroke-linejoin:miter;stroke-width:0.8;\"/>\n   </g>\n   <g id=\"patch_6\">\n    <path d=\"M 33.2875 10.878096 \nL 209.64258 10.878096 \n\" style=\"fill:none;stroke:#000000;stroke-linecap:square;stroke-linejoin:miter;stroke-width:0.8;\"/>\n   </g>\n  </g>\n </g>\n <defs>\n  <clipPath id=\"pfd69872559\">\n   <rect height=\"135.9\" width=\"176.35508\" x=\"33.2875\" y=\"10.878096\"/>\n  </clipPath>\n </defs>\n</svg>\n"
          },
          "metadata": {
            "tags": [],
            "needs_background": "light"
          }
        }
      ]
    },
    {
      "cell_type": "code",
      "metadata": {
        "colab": {
          "base_uri": "https://localhost:8080/",
          "height": 300
        },
        "id": "397UEJXHnREK",
        "outputId": "a112f07f-ebbd-4c19-ae83-4570e65edd1f"
      },
      "source": [
        "#https://www.w3schools.com/python/numpy_random_uniform.asp\n",
        "\n",
        "sns.distplot(random.uniform(size=(100,300,2)), hist=False)\n",
        "plt.show()"
      ],
      "execution_count": null,
      "outputs": [
        {
          "output_type": "stream",
          "text": [
            "/usr/local/lib/python3.7/dist-packages/seaborn/distributions.py:2557: FutureWarning: `distplot` is a deprecated function and will be removed in a future version. Please adapt your code to use either `displot` (a figure-level function with similar flexibility) or `kdeplot` (an axes-level function for kernel density plots).\n",
            "  warnings.warn(msg, FutureWarning)\n"
          ],
          "name": "stderr"
        },
        {
          "output_type": "display_data",
          "data": {
            "text/plain": [
              "<Figure size 252x180 with 1 Axes>"
            ],
            "image/svg+xml": "<?xml version=\"1.0\" encoding=\"utf-8\" standalone=\"no\"?>\n<!DOCTYPE svg PUBLIC \"-//W3C//DTD SVG 1.1//EN\"\n  \"http://www.w3.org/Graphics/SVG/1.1/DTD/svg11.dtd\">\n<!-- Created with matplotlib (https://matplotlib.org/) -->\n<svg height=\"166.978125pt\" version=\"1.1\" viewBox=\"0 0 246.28125 166.978125\" width=\"246.28125pt\" xmlns=\"http://www.w3.org/2000/svg\" xmlns:xlink=\"http://www.w3.org/1999/xlink\">\n <defs>\n  <style type=\"text/css\">\n*{stroke-linecap:butt;stroke-linejoin:round;}\n  </style>\n </defs>\n <g id=\"figure_1\">\n  <g id=\"patch_1\">\n   <path d=\"M 0 166.978125 \nL 246.28125 166.978125 \nL 246.28125 0 \nL 0 0 \nz\n\" style=\"fill:none;\"/>\n  </g>\n  <g id=\"axes_1\">\n   <g id=\"patch_2\">\n    <path d=\"M 43.78125 143.1 \nL 239.08125 143.1 \nL 239.08125 7.2 \nL 43.78125 7.2 \nz\n\" style=\"fill:#ffffff;\"/>\n   </g>\n   <g id=\"matplotlib.axis_1\">\n    <g id=\"xtick_1\">\n     <g id=\"line2d_1\">\n      <defs>\n       <path d=\"M 0 0 \nL 0 3.5 \n\" id=\"mf4bb933e7d\" style=\"stroke:#000000;stroke-width:0.8;\"/>\n      </defs>\n      <g>\n       <use style=\"stroke:#000000;stroke-width:0.8;\" x=\"66.954572\" xlink:href=\"#mf4bb933e7d\" y=\"143.1\"/>\n      </g>\n     </g>\n     <g id=\"text_1\">\n      <!-- 0.00 -->\n      <defs>\n       <path d=\"M 31.78125 66.40625 \nQ 24.171875 66.40625 20.328125 58.90625 \nQ 16.5 51.421875 16.5 36.375 \nQ 16.5 21.390625 20.328125 13.890625 \nQ 24.171875 6.390625 31.78125 6.390625 \nQ 39.453125 6.390625 43.28125 13.890625 \nQ 47.125 21.390625 47.125 36.375 \nQ 47.125 51.421875 43.28125 58.90625 \nQ 39.453125 66.40625 31.78125 66.40625 \nz\nM 31.78125 74.21875 \nQ 44.046875 74.21875 50.515625 64.515625 \nQ 56.984375 54.828125 56.984375 36.375 \nQ 56.984375 17.96875 50.515625 8.265625 \nQ 44.046875 -1.421875 31.78125 -1.421875 \nQ 19.53125 -1.421875 13.0625 8.265625 \nQ 6.59375 17.96875 6.59375 36.375 \nQ 6.59375 54.828125 13.0625 64.515625 \nQ 19.53125 74.21875 31.78125 74.21875 \nz\n\" id=\"DejaVuSans-48\"/>\n       <path d=\"M 10.6875 12.40625 \nL 21 12.40625 \nL 21 0 \nL 10.6875 0 \nz\n\" id=\"DejaVuSans-46\"/>\n      </defs>\n      <g transform=\"translate(55.821759 157.698438)scale(0.1 -0.1)\">\n       <use xlink:href=\"#DejaVuSans-48\"/>\n       <use x=\"63.623047\" xlink:href=\"#DejaVuSans-46\"/>\n       <use x=\"95.410156\" xlink:href=\"#DejaVuSans-48\"/>\n       <use x=\"159.033203\" xlink:href=\"#DejaVuSans-48\"/>\n      </g>\n     </g>\n    </g>\n    <g id=\"xtick_2\">\n     <g id=\"line2d_2\">\n      <g>\n       <use style=\"stroke:#000000;stroke-width:0.8;\" x=\"104.194978\" xlink:href=\"#mf4bb933e7d\" y=\"143.1\"/>\n      </g>\n     </g>\n     <g id=\"text_2\">\n      <!-- 0.25 -->\n      <defs>\n       <path d=\"M 19.1875 8.296875 \nL 53.609375 8.296875 \nL 53.609375 0 \nL 7.328125 0 \nL 7.328125 8.296875 \nQ 12.9375 14.109375 22.625 23.890625 \nQ 32.328125 33.6875 34.8125 36.53125 \nQ 39.546875 41.84375 41.421875 45.53125 \nQ 43.3125 49.21875 43.3125 52.78125 \nQ 43.3125 58.59375 39.234375 62.25 \nQ 35.15625 65.921875 28.609375 65.921875 \nQ 23.96875 65.921875 18.8125 64.3125 \nQ 13.671875 62.703125 7.8125 59.421875 \nL 7.8125 69.390625 \nQ 13.765625 71.78125 18.9375 73 \nQ 24.125 74.21875 28.421875 74.21875 \nQ 39.75 74.21875 46.484375 68.546875 \nQ 53.21875 62.890625 53.21875 53.421875 \nQ 53.21875 48.921875 51.53125 44.890625 \nQ 49.859375 40.875 45.40625 35.40625 \nQ 44.1875 33.984375 37.640625 27.21875 \nQ 31.109375 20.453125 19.1875 8.296875 \nz\n\" id=\"DejaVuSans-50\"/>\n       <path d=\"M 10.796875 72.90625 \nL 49.515625 72.90625 \nL 49.515625 64.59375 \nL 19.828125 64.59375 \nL 19.828125 46.734375 \nQ 21.96875 47.46875 24.109375 47.828125 \nQ 26.265625 48.1875 28.421875 48.1875 \nQ 40.625 48.1875 47.75 41.5 \nQ 54.890625 34.8125 54.890625 23.390625 \nQ 54.890625 11.625 47.5625 5.09375 \nQ 40.234375 -1.421875 26.90625 -1.421875 \nQ 22.3125 -1.421875 17.546875 -0.640625 \nQ 12.796875 0.140625 7.71875 1.703125 \nL 7.71875 11.625 \nQ 12.109375 9.234375 16.796875 8.0625 \nQ 21.484375 6.890625 26.703125 6.890625 \nQ 35.15625 6.890625 40.078125 11.328125 \nQ 45.015625 15.765625 45.015625 23.390625 \nQ 45.015625 31 40.078125 35.4375 \nQ 35.15625 39.890625 26.703125 39.890625 \nQ 22.75 39.890625 18.8125 39.015625 \nQ 14.890625 38.140625 10.796875 36.28125 \nz\n\" id=\"DejaVuSans-53\"/>\n      </defs>\n      <g transform=\"translate(93.062166 157.698438)scale(0.1 -0.1)\">\n       <use xlink:href=\"#DejaVuSans-48\"/>\n       <use x=\"63.623047\" xlink:href=\"#DejaVuSans-46\"/>\n       <use x=\"95.410156\" xlink:href=\"#DejaVuSans-50\"/>\n       <use x=\"159.033203\" xlink:href=\"#DejaVuSans-53\"/>\n      </g>\n     </g>\n    </g>\n    <g id=\"xtick_3\">\n     <g id=\"line2d_3\">\n      <g>\n       <use style=\"stroke:#000000;stroke-width:0.8;\" x=\"141.435385\" xlink:href=\"#mf4bb933e7d\" y=\"143.1\"/>\n      </g>\n     </g>\n     <g id=\"text_3\">\n      <!-- 0.50 -->\n      <g transform=\"translate(130.302572 157.698438)scale(0.1 -0.1)\">\n       <use xlink:href=\"#DejaVuSans-48\"/>\n       <use x=\"63.623047\" xlink:href=\"#DejaVuSans-46\"/>\n       <use x=\"95.410156\" xlink:href=\"#DejaVuSans-53\"/>\n       <use x=\"159.033203\" xlink:href=\"#DejaVuSans-48\"/>\n      </g>\n     </g>\n    </g>\n    <g id=\"xtick_4\">\n     <g id=\"line2d_4\">\n      <g>\n       <use style=\"stroke:#000000;stroke-width:0.8;\" x=\"178.675791\" xlink:href=\"#mf4bb933e7d\" y=\"143.1\"/>\n      </g>\n     </g>\n     <g id=\"text_4\">\n      <!-- 0.75 -->\n      <defs>\n       <path d=\"M 8.203125 72.90625 \nL 55.078125 72.90625 \nL 55.078125 68.703125 \nL 28.609375 0 \nL 18.3125 0 \nL 43.21875 64.59375 \nL 8.203125 64.59375 \nz\n\" id=\"DejaVuSans-55\"/>\n      </defs>\n      <g transform=\"translate(167.542979 157.698438)scale(0.1 -0.1)\">\n       <use xlink:href=\"#DejaVuSans-48\"/>\n       <use x=\"63.623047\" xlink:href=\"#DejaVuSans-46\"/>\n       <use x=\"95.410156\" xlink:href=\"#DejaVuSans-55\"/>\n       <use x=\"159.033203\" xlink:href=\"#DejaVuSans-53\"/>\n      </g>\n     </g>\n    </g>\n    <g id=\"xtick_5\">\n     <g id=\"line2d_5\">\n      <g>\n       <use style=\"stroke:#000000;stroke-width:0.8;\" x=\"215.916198\" xlink:href=\"#mf4bb933e7d\" y=\"143.1\"/>\n      </g>\n     </g>\n     <g id=\"text_5\">\n      <!-- 1.00 -->\n      <defs>\n       <path d=\"M 12.40625 8.296875 \nL 28.515625 8.296875 \nL 28.515625 63.921875 \nL 10.984375 60.40625 \nL 10.984375 69.390625 \nL 28.421875 72.90625 \nL 38.28125 72.90625 \nL 38.28125 8.296875 \nL 54.390625 8.296875 \nL 54.390625 0 \nL 12.40625 0 \nz\n\" id=\"DejaVuSans-49\"/>\n      </defs>\n      <g transform=\"translate(204.783385 157.698438)scale(0.1 -0.1)\">\n       <use xlink:href=\"#DejaVuSans-49\"/>\n       <use x=\"63.623047\" xlink:href=\"#DejaVuSans-46\"/>\n       <use x=\"95.410156\" xlink:href=\"#DejaVuSans-48\"/>\n       <use x=\"159.033203\" xlink:href=\"#DejaVuSans-48\"/>\n      </g>\n     </g>\n    </g>\n   </g>\n   <g id=\"matplotlib.axis_2\">\n    <g id=\"ytick_1\">\n     <g id=\"line2d_6\">\n      <defs>\n       <path d=\"M 0 0 \nL -3.5 0 \n\" id=\"m971a9b2dee\" style=\"stroke:#000000;stroke-width:0.8;\"/>\n      </defs>\n      <g>\n       <use style=\"stroke:#000000;stroke-width:0.8;\" x=\"43.78125\" xlink:href=\"#m971a9b2dee\" y=\"143.1\"/>\n      </g>\n     </g>\n     <g id=\"text_6\">\n      <!-- 0.0 -->\n      <g transform=\"translate(20.878125 146.899219)scale(0.1 -0.1)\">\n       <use xlink:href=\"#DejaVuSans-48\"/>\n       <use x=\"63.623047\" xlink:href=\"#DejaVuSans-46\"/>\n       <use x=\"95.410156\" xlink:href=\"#DejaVuSans-48\"/>\n      </g>\n     </g>\n    </g>\n    <g id=\"ytick_2\">\n     <g id=\"line2d_7\">\n      <g>\n       <use style=\"stroke:#000000;stroke-width:0.8;\" x=\"43.78125\" xlink:href=\"#m971a9b2dee\" y=\"117.684649\"/>\n      </g>\n     </g>\n     <g id=\"text_7\">\n      <!-- 0.2 -->\n      <g transform=\"translate(20.878125 121.483868)scale(0.1 -0.1)\">\n       <use xlink:href=\"#DejaVuSans-48\"/>\n       <use x=\"63.623047\" xlink:href=\"#DejaVuSans-46\"/>\n       <use x=\"95.410156\" xlink:href=\"#DejaVuSans-50\"/>\n      </g>\n     </g>\n    </g>\n    <g id=\"ytick_3\">\n     <g id=\"line2d_8\">\n      <g>\n       <use style=\"stroke:#000000;stroke-width:0.8;\" x=\"43.78125\" xlink:href=\"#m971a9b2dee\" y=\"92.269298\"/>\n      </g>\n     </g>\n     <g id=\"text_8\">\n      <!-- 0.4 -->\n      <defs>\n       <path d=\"M 37.796875 64.3125 \nL 12.890625 25.390625 \nL 37.796875 25.390625 \nz\nM 35.203125 72.90625 \nL 47.609375 72.90625 \nL 47.609375 25.390625 \nL 58.015625 25.390625 \nL 58.015625 17.1875 \nL 47.609375 17.1875 \nL 47.609375 0 \nL 37.796875 0 \nL 37.796875 17.1875 \nL 4.890625 17.1875 \nL 4.890625 26.703125 \nz\n\" id=\"DejaVuSans-52\"/>\n      </defs>\n      <g transform=\"translate(20.878125 96.068517)scale(0.1 -0.1)\">\n       <use xlink:href=\"#DejaVuSans-48\"/>\n       <use x=\"63.623047\" xlink:href=\"#DejaVuSans-46\"/>\n       <use x=\"95.410156\" xlink:href=\"#DejaVuSans-52\"/>\n      </g>\n     </g>\n    </g>\n    <g id=\"ytick_4\">\n     <g id=\"line2d_9\">\n      <g>\n       <use style=\"stroke:#000000;stroke-width:0.8;\" x=\"43.78125\" xlink:href=\"#m971a9b2dee\" y=\"66.853947\"/>\n      </g>\n     </g>\n     <g id=\"text_9\">\n      <!-- 0.6 -->\n      <defs>\n       <path d=\"M 33.015625 40.375 \nQ 26.375 40.375 22.484375 35.828125 \nQ 18.609375 31.296875 18.609375 23.390625 \nQ 18.609375 15.53125 22.484375 10.953125 \nQ 26.375 6.390625 33.015625 6.390625 \nQ 39.65625 6.390625 43.53125 10.953125 \nQ 47.40625 15.53125 47.40625 23.390625 \nQ 47.40625 31.296875 43.53125 35.828125 \nQ 39.65625 40.375 33.015625 40.375 \nz\nM 52.59375 71.296875 \nL 52.59375 62.3125 \nQ 48.875 64.0625 45.09375 64.984375 \nQ 41.3125 65.921875 37.59375 65.921875 \nQ 27.828125 65.921875 22.671875 59.328125 \nQ 17.53125 52.734375 16.796875 39.40625 \nQ 19.671875 43.65625 24.015625 45.921875 \nQ 28.375 48.1875 33.59375 48.1875 \nQ 44.578125 48.1875 50.953125 41.515625 \nQ 57.328125 34.859375 57.328125 23.390625 \nQ 57.328125 12.15625 50.6875 5.359375 \nQ 44.046875 -1.421875 33.015625 -1.421875 \nQ 20.359375 -1.421875 13.671875 8.265625 \nQ 6.984375 17.96875 6.984375 36.375 \nQ 6.984375 53.65625 15.1875 63.9375 \nQ 23.390625 74.21875 37.203125 74.21875 \nQ 40.921875 74.21875 44.703125 73.484375 \nQ 48.484375 72.75 52.59375 71.296875 \nz\n\" id=\"DejaVuSans-54\"/>\n      </defs>\n      <g transform=\"translate(20.878125 70.653166)scale(0.1 -0.1)\">\n       <use xlink:href=\"#DejaVuSans-48\"/>\n       <use x=\"63.623047\" xlink:href=\"#DejaVuSans-46\"/>\n       <use x=\"95.410156\" xlink:href=\"#DejaVuSans-54\"/>\n      </g>\n     </g>\n    </g>\n    <g id=\"ytick_5\">\n     <g id=\"line2d_10\">\n      <g>\n       <use style=\"stroke:#000000;stroke-width:0.8;\" x=\"43.78125\" xlink:href=\"#m971a9b2dee\" y=\"41.438597\"/>\n      </g>\n     </g>\n     <g id=\"text_10\">\n      <!-- 0.8 -->\n      <defs>\n       <path d=\"M 31.78125 34.625 \nQ 24.75 34.625 20.71875 30.859375 \nQ 16.703125 27.09375 16.703125 20.515625 \nQ 16.703125 13.921875 20.71875 10.15625 \nQ 24.75 6.390625 31.78125 6.390625 \nQ 38.8125 6.390625 42.859375 10.171875 \nQ 46.921875 13.96875 46.921875 20.515625 \nQ 46.921875 27.09375 42.890625 30.859375 \nQ 38.875 34.625 31.78125 34.625 \nz\nM 21.921875 38.8125 \nQ 15.578125 40.375 12.03125 44.71875 \nQ 8.5 49.078125 8.5 55.328125 \nQ 8.5 64.0625 14.71875 69.140625 \nQ 20.953125 74.21875 31.78125 74.21875 \nQ 42.671875 74.21875 48.875 69.140625 \nQ 55.078125 64.0625 55.078125 55.328125 \nQ 55.078125 49.078125 51.53125 44.71875 \nQ 48 40.375 41.703125 38.8125 \nQ 48.828125 37.15625 52.796875 32.3125 \nQ 56.78125 27.484375 56.78125 20.515625 \nQ 56.78125 9.90625 50.3125 4.234375 \nQ 43.84375 -1.421875 31.78125 -1.421875 \nQ 19.734375 -1.421875 13.25 4.234375 \nQ 6.78125 9.90625 6.78125 20.515625 \nQ 6.78125 27.484375 10.78125 32.3125 \nQ 14.796875 37.15625 21.921875 38.8125 \nz\nM 18.3125 54.390625 \nQ 18.3125 48.734375 21.84375 45.5625 \nQ 25.390625 42.390625 31.78125 42.390625 \nQ 38.140625 42.390625 41.71875 45.5625 \nQ 45.3125 48.734375 45.3125 54.390625 \nQ 45.3125 60.0625 41.71875 63.234375 \nQ 38.140625 66.40625 31.78125 66.40625 \nQ 25.390625 66.40625 21.84375 63.234375 \nQ 18.3125 60.0625 18.3125 54.390625 \nz\n\" id=\"DejaVuSans-56\"/>\n      </defs>\n      <g transform=\"translate(20.878125 45.237815)scale(0.1 -0.1)\">\n       <use xlink:href=\"#DejaVuSans-48\"/>\n       <use x=\"63.623047\" xlink:href=\"#DejaVuSans-46\"/>\n       <use x=\"95.410156\" xlink:href=\"#DejaVuSans-56\"/>\n      </g>\n     </g>\n    </g>\n    <g id=\"ytick_6\">\n     <g id=\"line2d_11\">\n      <g>\n       <use style=\"stroke:#000000;stroke-width:0.8;\" x=\"43.78125\" xlink:href=\"#m971a9b2dee\" y=\"16.023246\"/>\n      </g>\n     </g>\n     <g id=\"text_11\">\n      <!-- 1.0 -->\n      <g transform=\"translate(20.878125 19.822464)scale(0.1 -0.1)\">\n       <use xlink:href=\"#DejaVuSans-49\"/>\n       <use x=\"63.623047\" xlink:href=\"#DejaVuSans-46\"/>\n       <use x=\"95.410156\" xlink:href=\"#DejaVuSans-48\"/>\n      </g>\n     </g>\n    </g>\n    <g id=\"text_12\">\n     <!-- Density -->\n     <defs>\n      <path d=\"M 19.671875 64.796875 \nL 19.671875 8.109375 \nL 31.59375 8.109375 \nQ 46.6875 8.109375 53.6875 14.9375 \nQ 60.6875 21.78125 60.6875 36.53125 \nQ 60.6875 51.171875 53.6875 57.984375 \nQ 46.6875 64.796875 31.59375 64.796875 \nz\nM 9.8125 72.90625 \nL 30.078125 72.90625 \nQ 51.265625 72.90625 61.171875 64.09375 \nQ 71.09375 55.28125 71.09375 36.53125 \nQ 71.09375 17.671875 61.125 8.828125 \nQ 51.171875 0 30.078125 0 \nL 9.8125 0 \nz\n\" id=\"DejaVuSans-68\"/>\n      <path d=\"M 56.203125 29.59375 \nL 56.203125 25.203125 \nL 14.890625 25.203125 \nQ 15.484375 15.921875 20.484375 11.0625 \nQ 25.484375 6.203125 34.421875 6.203125 \nQ 39.59375 6.203125 44.453125 7.46875 \nQ 49.3125 8.734375 54.109375 11.28125 \nL 54.109375 2.78125 \nQ 49.265625 0.734375 44.1875 -0.34375 \nQ 39.109375 -1.421875 33.890625 -1.421875 \nQ 20.796875 -1.421875 13.15625 6.1875 \nQ 5.515625 13.8125 5.515625 26.8125 \nQ 5.515625 40.234375 12.765625 48.109375 \nQ 20.015625 56 32.328125 56 \nQ 43.359375 56 49.78125 48.890625 \nQ 56.203125 41.796875 56.203125 29.59375 \nz\nM 47.21875 32.234375 \nQ 47.125 39.59375 43.09375 43.984375 \nQ 39.0625 48.390625 32.421875 48.390625 \nQ 24.90625 48.390625 20.390625 44.140625 \nQ 15.875 39.890625 15.1875 32.171875 \nz\n\" id=\"DejaVuSans-101\"/>\n      <path d=\"M 54.890625 33.015625 \nL 54.890625 0 \nL 45.90625 0 \nL 45.90625 32.71875 \nQ 45.90625 40.484375 42.875 44.328125 \nQ 39.84375 48.1875 33.796875 48.1875 \nQ 26.515625 48.1875 22.3125 43.546875 \nQ 18.109375 38.921875 18.109375 30.90625 \nL 18.109375 0 \nL 9.078125 0 \nL 9.078125 54.6875 \nL 18.109375 54.6875 \nL 18.109375 46.1875 \nQ 21.34375 51.125 25.703125 53.5625 \nQ 30.078125 56 35.796875 56 \nQ 45.21875 56 50.046875 50.171875 \nQ 54.890625 44.34375 54.890625 33.015625 \nz\n\" id=\"DejaVuSans-110\"/>\n      <path d=\"M 44.28125 53.078125 \nL 44.28125 44.578125 \nQ 40.484375 46.53125 36.375 47.5 \nQ 32.28125 48.484375 27.875 48.484375 \nQ 21.1875 48.484375 17.84375 46.4375 \nQ 14.5 44.390625 14.5 40.28125 \nQ 14.5 37.15625 16.890625 35.375 \nQ 19.28125 33.59375 26.515625 31.984375 \nL 29.59375 31.296875 \nQ 39.15625 29.25 43.1875 25.515625 \nQ 47.21875 21.78125 47.21875 15.09375 \nQ 47.21875 7.46875 41.1875 3.015625 \nQ 35.15625 -1.421875 24.609375 -1.421875 \nQ 20.21875 -1.421875 15.453125 -0.5625 \nQ 10.6875 0.296875 5.421875 2 \nL 5.421875 11.28125 \nQ 10.40625 8.6875 15.234375 7.390625 \nQ 20.0625 6.109375 24.8125 6.109375 \nQ 31.15625 6.109375 34.5625 8.28125 \nQ 37.984375 10.453125 37.984375 14.40625 \nQ 37.984375 18.0625 35.515625 20.015625 \nQ 33.0625 21.96875 24.703125 23.78125 \nL 21.578125 24.515625 \nQ 13.234375 26.265625 9.515625 29.90625 \nQ 5.8125 33.546875 5.8125 39.890625 \nQ 5.8125 47.609375 11.28125 51.796875 \nQ 16.75 56 26.8125 56 \nQ 31.78125 56 36.171875 55.265625 \nQ 40.578125 54.546875 44.28125 53.078125 \nz\n\" id=\"DejaVuSans-115\"/>\n      <path d=\"M 9.421875 54.6875 \nL 18.40625 54.6875 \nL 18.40625 0 \nL 9.421875 0 \nz\nM 9.421875 75.984375 \nL 18.40625 75.984375 \nL 18.40625 64.59375 \nL 9.421875 64.59375 \nz\n\" id=\"DejaVuSans-105\"/>\n      <path d=\"M 18.3125 70.21875 \nL 18.3125 54.6875 \nL 36.8125 54.6875 \nL 36.8125 47.703125 \nL 18.3125 47.703125 \nL 18.3125 18.015625 \nQ 18.3125 11.328125 20.140625 9.421875 \nQ 21.96875 7.515625 27.59375 7.515625 \nL 36.8125 7.515625 \nL 36.8125 0 \nL 27.59375 0 \nQ 17.1875 0 13.234375 3.875 \nQ 9.28125 7.765625 9.28125 18.015625 \nL 9.28125 47.703125 \nL 2.6875 47.703125 \nL 2.6875 54.6875 \nL 9.28125 54.6875 \nL 9.28125 70.21875 \nz\n\" id=\"DejaVuSans-116\"/>\n      <path d=\"M 32.171875 -5.078125 \nQ 28.375 -14.84375 24.75 -17.8125 \nQ 21.140625 -20.796875 15.09375 -20.796875 \nL 7.90625 -20.796875 \nL 7.90625 -13.28125 \nL 13.1875 -13.28125 \nQ 16.890625 -13.28125 18.9375 -11.515625 \nQ 21 -9.765625 23.484375 -3.21875 \nL 25.09375 0.875 \nL 2.984375 54.6875 \nL 12.5 54.6875 \nL 29.59375 11.921875 \nL 46.6875 54.6875 \nL 56.203125 54.6875 \nz\n\" id=\"DejaVuSans-121\"/>\n     </defs>\n     <g transform=\"translate(14.798438 94.158594)rotate(-90)scale(0.1 -0.1)\">\n      <use xlink:href=\"#DejaVuSans-68\"/>\n      <use x=\"77.001953\" xlink:href=\"#DejaVuSans-101\"/>\n      <use x=\"138.525391\" xlink:href=\"#DejaVuSans-110\"/>\n      <use x=\"201.904297\" xlink:href=\"#DejaVuSans-115\"/>\n      <use x=\"254.003906\" xlink:href=\"#DejaVuSans-105\"/>\n      <use x=\"281.787109\" xlink:href=\"#DejaVuSans-116\"/>\n      <use x=\"320.996094\" xlink:href=\"#DejaVuSans-121\"/>\n     </g>\n    </g>\n   </g>\n   <g id=\"line2d_12\">\n    <path clip-path=\"url(#p2fa912acab)\" d=\"M 52.658523 142.929644 \nL 54.442899 142.553873 \nL 55.335087 142.168229 \nL 56.227276 141.560045 \nL 57.119464 140.633838 \nL 58.011652 139.271756 \nL 58.90384 137.337495 \nL 59.796028 134.68509 \nL 60.688217 131.172934 \nL 61.580405 126.682213 \nL 62.472593 121.137633 \nL 63.364781 114.527062 \nL 65.149158 98.453333 \nL 70.502287 44.969106 \nL 71.394475 38.137961 \nL 72.286663 32.322608 \nL 73.178852 27.517688 \nL 74.07104 23.660147 \nL 74.963228 20.648513 \nL 75.855416 18.362052 \nL 76.747604 16.676663 \nL 77.639793 15.475879 \nL 78.531981 14.65686 \nL 79.424169 14.132376 \nL 80.316357 13.830318 \nL 81.208546 13.692166 \nL 82.992922 13.73248 \nL 85.669487 14.19402 \nL 88.346051 14.921004 \nL 93.699181 16.633312 \nL 95.483557 16.825493 \nL 97.267933 16.637075 \nL 99.05231 16.110558 \nL 103.513251 14.516775 \nL 105.297627 14.224897 \nL 107.082004 14.167765 \nL 113.327321 14.421389 \nL 115.111698 14.630585 \nL 117.788262 15.239311 \nL 124.03358 16.90549 \nL 130.278897 18.522612 \nL 132.063274 18.55723 \nL 132.955462 18.402099 \nL 134.739838 17.749502 \nL 139.200779 15.454407 \nL 140.092968 15.188796 \nL 140.985156 15.053214 \nL 141.877344 15.052253 \nL 143.661721 15.404199 \nL 148.122662 16.891507 \nL 149.907038 17.103276 \nL 151.691414 17.005227 \nL 161.505485 15.698586 \nL 165.966426 15.514919 \nL 171.319555 15.562517 \nL 175.780496 15.830588 \nL 179.349249 16.059138 \nL 185.594567 16.227571 \nL 187.378943 16.613604 \nL 190.055508 17.55229 \nL 192.732072 18.561782 \nL 194.516449 18.999334 \nL 196.300825 19.080474 \nL 198.085202 18.768969 \nL 202.546143 17.418482 \nL 203.438331 17.38352 \nL 204.330519 17.55614 \nL 205.222707 18.009399 \nL 206.114896 18.831534 \nL 207.007084 20.128542 \nL 207.899272 22.023339 \nL 208.79146 24.64974 \nL 209.683648 28.140416 \nL 210.575837 32.609327 \nL 211.468025 38.130776 \nL 212.360213 44.718652 \nL 214.144589 60.75905 \nL 218.60553 106.358503 \nL 219.497719 114.046453 \nL 220.389907 120.738439 \nL 221.282095 126.362344 \nL 222.174283 130.925514 \nL 223.066472 134.50029 \nL 223.95866 137.204199 \nL 224.850848 139.178908 \nL 225.743036 140.571388 \nL 226.635224 141.519489 \nL 227.527413 142.142802 \nL 228.419601 142.538484 \nL 230.203977 142.924576 \nL 230.203977 142.924576 \n\" style=\"fill:none;stroke:#1f77b4;stroke-linecap:square;stroke-width:1.5;\"/>\n   </g>\n   <g id=\"patch_3\">\n    <path d=\"M 43.78125 143.1 \nL 43.78125 7.2 \n\" style=\"fill:none;stroke:#000000;stroke-linecap:square;stroke-linejoin:miter;stroke-width:0.8;\"/>\n   </g>\n   <g id=\"patch_4\">\n    <path d=\"M 239.08125 143.1 \nL 239.08125 7.2 \n\" style=\"fill:none;stroke:#000000;stroke-linecap:square;stroke-linejoin:miter;stroke-width:0.8;\"/>\n   </g>\n   <g id=\"patch_5\">\n    <path d=\"M 43.78125 143.1 \nL 239.08125 143.1 \n\" style=\"fill:none;stroke:#000000;stroke-linecap:square;stroke-linejoin:miter;stroke-width:0.8;\"/>\n   </g>\n   <g id=\"patch_6\">\n    <path d=\"M 43.78125 7.2 \nL 239.08125 7.2 \n\" style=\"fill:none;stroke:#000000;stroke-linecap:square;stroke-linejoin:miter;stroke-width:0.8;\"/>\n   </g>\n  </g>\n </g>\n <defs>\n  <clipPath id=\"p2fa912acab\">\n   <rect height=\"135.9\" width=\"195.3\" x=\"43.78125\" y=\"7.2\"/>\n  </clipPath>\n </defs>\n</svg>\n"
          },
          "metadata": {
            "tags": [],
            "needs_background": "light"
          }
        }
      ]
    },
    {
      "cell_type": "code",
      "metadata": {
        "colab": {
          "base_uri": "https://localhost:8080/"
        },
        "id": "Qp9Xh2jxJeij",
        "outputId": "f0e49444-81fe-4642-af1d-b8cebc918092"
      },
      "source": [
        "h1,w1=img.shape[0:2]\n",
        "print('h1 : ',h1,'    w1 : ',w1)\n",
        "#https://towardsdatascience.com/discover-the-link-between-math-and-data-science-problems-a98fe9866a4f\n",
        "#here 4=row    and  5=column \n",
        "#1*3 =3 that means row(4),column(5) gulo mot 3 bar print hobe 1 ta array er moddhe      \n",
        "x1=np.random.uniform(size=(1,3,4,5))  #construct input data\n",
        "print('x1  :  \\n',x1)"
      ],
      "execution_count": null,
      "outputs": [
        {
          "output_type": "stream",
          "text": [
            "h1 :  561     w1 :  728\n",
            "x1  :  \n",
            " [[[[0.55 0.59 0.72 0.84 0.6 ]\n",
            "   [0.86 0.54 0.85 0.42 0.62]\n",
            "   [0.65 0.38 0.44 0.3  0.89]\n",
            "   [0.06 0.96 0.27 0.38 0.48]]\n",
            "\n",
            "  [[0.79 0.81 0.53 0.48 0.57]\n",
            "   [0.39 0.93 0.84 0.07 0.34]\n",
            "   [0.09 0.65 0.02 0.37 0.83]\n",
            "   [0.96 0.78 0.14 0.87 0.87]]\n",
            "\n",
            "  [[0.98 0.47 0.8  0.8  0.46]\n",
            "   [0.52 0.78 0.68 0.12 0.72]\n",
            "   [0.64 0.58 0.14 0.54 0.94]\n",
            "   [0.76 0.52 0.11 0.41 0.47]]]]\n"
          ],
          "name": "stdout"
        }
      ]
    },
    {
      "cell_type": "code",
      "metadata": {
        "colab": {
          "base_uri": "https://localhost:8080/"
        },
        "id": "LLt2xbF1W4fj",
        "outputId": "1ddf88ee-d468-45d4-f55f-b4868a917861"
      },
      "source": [
        "tensor_=d2l.tensor(5)\n",
        "print('tensor_ : ',tensor_)\n",
        "tensor_"
      ],
      "execution_count": null,
      "outputs": [
        {
          "output_type": "stream",
          "text": [
            "tensor_ :  tensor(5)\n"
          ],
          "name": "stdout"
        },
        {
          "output_type": "execute_result",
          "data": {
            "text/plain": [
              "tensor(5)"
            ]
          },
          "metadata": {
            "tags": []
          },
          "execution_count": 11
        }
      ]
    },
    {
      "cell_type": "code",
      "metadata": {
        "colab": {
          "base_uri": "https://localhost:8080/"
        },
        "id": "nvHVwRY4B3zK",
        "outputId": "2aca3452-299b-4f27-e42b-6ffba964bf0d"
      },
      "source": [
        "#https://www.geeksforgeeks.org/numpy-meshgrid-function/\n",
        "a=np.linspace(-4,4,9)\n",
        "print('a : ',a)\n",
        "b=np.linspace(-5,5,11)\n",
        "print('b : ',b)\n",
        "a_1,b_1=np.meshgrid(a,b)\n",
        "print('a_1 : ######################################################\\n',a_1)\n",
        "print('b_1 : ######################################################\\n',b_1)\n",
        "#### convert the a_1 into 1D array using .reshape(-1) method\n",
        "a_1=a_1.reshape(-1)\n",
        "b_1=b_1.reshape(-1)\n",
        "print('reshape of a_1 : #############################################\\n',a_1.reshape(-1))\n",
        "#####  axis =1 er jonno value ulo column wise store hobe ,,,ta na hole row wise store hobe ################\n",
        "g1=np.stack([a_1,b_1,a_1,b_1],axis=1)#.repeat(5,axis=0)\n",
        "print('g1 : \\n',g1)\n",
        "g1=np.stack([a_1,b_1,a_1,b_1],axis=1).repeat(5,axis=0)\n",
        "print('g1 : \\n',g1)"
      ],
      "execution_count": null,
      "outputs": [
        {
          "output_type": "stream",
          "text": [
            "a :  [-4. -3. -2. -1.  0.  1.  2.  3.  4.]\n",
            "b :  [-5. -4. -3. -2. -1.  0.  1.  2.  3.  4.  5.]\n",
            "a_1 : ######################################################\n",
            " [[-4. -3. -2. -1.  0.  1.  2.  3.  4.]\n",
            " [-4. -3. -2. -1.  0.  1.  2.  3.  4.]\n",
            " [-4. -3. -2. -1.  0.  1.  2.  3.  4.]\n",
            " [-4. -3. -2. -1.  0.  1.  2.  3.  4.]\n",
            " [-4. -3. -2. -1.  0.  1.  2.  3.  4.]\n",
            " [-4. -3. -2. -1.  0.  1.  2.  3.  4.]\n",
            " [-4. -3. -2. -1.  0.  1.  2.  3.  4.]\n",
            " [-4. -3. -2. -1.  0.  1.  2.  3.  4.]\n",
            " [-4. -3. -2. -1.  0.  1.  2.  3.  4.]\n",
            " [-4. -3. -2. -1.  0.  1.  2.  3.  4.]\n",
            " [-4. -3. -2. -1.  0.  1.  2.  3.  4.]]\n",
            "b_1 : ######################################################\n",
            " [[-5. -5. -5. -5. -5. -5. -5. -5. -5.]\n",
            " [-4. -4. -4. -4. -4. -4. -4. -4. -4.]\n",
            " [-3. -3. -3. -3. -3. -3. -3. -3. -3.]\n",
            " [-2. -2. -2. -2. -2. -2. -2. -2. -2.]\n",
            " [-1. -1. -1. -1. -1. -1. -1. -1. -1.]\n",
            " [ 0.  0.  0.  0.  0.  0.  0.  0.  0.]\n",
            " [ 1.  1.  1.  1.  1.  1.  1.  1.  1.]\n",
            " [ 2.  2.  2.  2.  2.  2.  2.  2.  2.]\n",
            " [ 3.  3.  3.  3.  3.  3.  3.  3.  3.]\n",
            " [ 4.  4.  4.  4.  4.  4.  4.  4.  4.]\n",
            " [ 5.  5.  5.  5.  5.  5.  5.  5.  5.]]\n",
            "reshape of a_1 : #############################################\n",
            " [-4. -3. -2. -1.  0.  1.  2.  3.  4. -4. -3. -2. -1.  0.  1.  2.  3.  4.\n",
            " -4. -3. -2. -1.  0.  1.  2.  3.  4. -4. -3. -2. -1.  0.  1.  2.  3.  4.\n",
            " -4. -3. -2. -1.  0.  1.  2.  3.  4. -4. -3. -2. -1.  0.  1.  2.  3.  4.\n",
            " -4. -3. -2. -1.  0.  1.  2.  3.  4. -4. -3. -2. -1.  0.  1.  2.  3.  4.\n",
            " -4. -3. -2. -1.  0.  1.  2.  3.  4. -4. -3. -2. -1.  0.  1.  2.  3.  4.\n",
            " -4. -3. -2. -1.  0.  1.  2.  3.  4.]\n",
            "g1 : \n",
            " [[-4. -5. -4. -5.]\n",
            " [-3. -5. -3. -5.]\n",
            " [-2. -5. -2. -5.]\n",
            " [-1. -5. -1. -5.]\n",
            " [ 0. -5.  0. -5.]\n",
            " [ 1. -5.  1. -5.]\n",
            " [ 2. -5.  2. -5.]\n",
            " [ 3. -5.  3. -5.]\n",
            " [ 4. -5.  4. -5.]\n",
            " [-4. -4. -4. -4.]\n",
            " [-3. -4. -3. -4.]\n",
            " [-2. -4. -2. -4.]\n",
            " [-1. -4. -1. -4.]\n",
            " [ 0. -4.  0. -4.]\n",
            " [ 1. -4.  1. -4.]\n",
            " [ 2. -4.  2. -4.]\n",
            " [ 3. -4.  3. -4.]\n",
            " [ 4. -4.  4. -4.]\n",
            " [-4. -3. -4. -3.]\n",
            " [-3. -3. -3. -3.]\n",
            " [-2. -3. -2. -3.]\n",
            " [-1. -3. -1. -3.]\n",
            " [ 0. -3.  0. -3.]\n",
            " [ 1. -3.  1. -3.]\n",
            " [ 2. -3.  2. -3.]\n",
            " [ 3. -3.  3. -3.]\n",
            " [ 4. -3.  4. -3.]\n",
            " [-4. -2. -4. -2.]\n",
            " [-3. -2. -3. -2.]\n",
            " [-2. -2. -2. -2.]\n",
            " [-1. -2. -1. -2.]\n",
            " [ 0. -2.  0. -2.]\n",
            " [ 1. -2.  1. -2.]\n",
            " [ 2. -2.  2. -2.]\n",
            " [ 3. -2.  3. -2.]\n",
            " [ 4. -2.  4. -2.]\n",
            " [-4. -1. -4. -1.]\n",
            " [-3. -1. -3. -1.]\n",
            " [-2. -1. -2. -1.]\n",
            " [-1. -1. -1. -1.]\n",
            " [ 0. -1.  0. -1.]\n",
            " [ 1. -1.  1. -1.]\n",
            " [ 2. -1.  2. -1.]\n",
            " [ 3. -1.  3. -1.]\n",
            " [ 4. -1.  4. -1.]\n",
            " [-4.  0. -4.  0.]\n",
            " [-3.  0. -3.  0.]\n",
            " [-2.  0. -2.  0.]\n",
            " [-1.  0. -1.  0.]\n",
            " [ 0.  0.  0.  0.]\n",
            " [ 1.  0.  1.  0.]\n",
            " [ 2.  0.  2.  0.]\n",
            " [ 3.  0.  3.  0.]\n",
            " [ 4.  0.  4.  0.]\n",
            " [-4.  1. -4.  1.]\n",
            " [-3.  1. -3.  1.]\n",
            " [-2.  1. -2.  1.]\n",
            " [-1.  1. -1.  1.]\n",
            " [ 0.  1.  0.  1.]\n",
            " [ 1.  1.  1.  1.]\n",
            " [ 2.  1.  2.  1.]\n",
            " [ 3.  1.  3.  1.]\n",
            " [ 4.  1.  4.  1.]\n",
            " [-4.  2. -4.  2.]\n",
            " [-3.  2. -3.  2.]\n",
            " [-2.  2. -2.  2.]\n",
            " [-1.  2. -1.  2.]\n",
            " [ 0.  2.  0.  2.]\n",
            " [ 1.  2.  1.  2.]\n",
            " [ 2.  2.  2.  2.]\n",
            " [ 3.  2.  3.  2.]\n",
            " [ 4.  2.  4.  2.]\n",
            " [-4.  3. -4.  3.]\n",
            " [-3.  3. -3.  3.]\n",
            " [-2.  3. -2.  3.]\n",
            " [-1.  3. -1.  3.]\n",
            " [ 0.  3.  0.  3.]\n",
            " [ 1.  3.  1.  3.]\n",
            " [ 2.  3.  2.  3.]\n",
            " [ 3.  3.  3.  3.]\n",
            " [ 4.  3.  4.  3.]\n",
            " [-4.  4. -4.  4.]\n",
            " [-3.  4. -3.  4.]\n",
            " [-2.  4. -2.  4.]\n",
            " [-1.  4. -1.  4.]\n",
            " [ 0.  4.  0.  4.]\n",
            " [ 1.  4.  1.  4.]\n",
            " [ 2.  4.  2.  4.]\n",
            " [ 3.  4.  3.  4.]\n",
            " [ 4.  4.  4.  4.]\n",
            " [-4.  5. -4.  5.]\n",
            " [-3.  5. -3.  5.]\n",
            " [-2.  5. -2.  5.]\n",
            " [-1.  5. -1.  5.]\n",
            " [ 0.  5.  0.  5.]\n",
            " [ 1.  5.  1.  5.]\n",
            " [ 2.  5.  2.  5.]\n",
            " [ 3.  5.  3.  5.]\n",
            " [ 4.  5.  4.  5.]]\n",
            "g1 : \n",
            " [[-4. -5. -4. -5.]\n",
            " [-4. -5. -4. -5.]\n",
            " [-4. -5. -4. -5.]\n",
            " ...\n",
            " [ 4.  5.  4.  5.]\n",
            " [ 4.  5.  4.  5.]\n",
            " [ 4.  5.  4.  5.]]\n"
          ],
          "name": "stdout"
        }
      ]
    },
    {
      "cell_type": "code",
      "metadata": {
        "colab": {
          "base_uri": "https://localhost:8080/"
        },
        "id": "3a6WcW-Msyg6",
        "outputId": "c9206454-f296-4fb3-9f0d-f589de04af7f"
      },
      "source": [
        "#https://www.geeksforgeeks.org/numpy-tile-python/\n",
        "arr=np.arange(3)\n",
        "print(\"arr : \\n\", arr) \n",
        "a=2\n",
        "b=2\n",
        "repetitions=(a,b)\n",
        "print(\"\\nRepeating arr : \\n\", np.tile(arr, repetitions)) \n",
        "print(\"arr Shape : \\n\", np.tile(arr, repetitions).shape) \n",
        "a = 3  \n",
        "b = 4   \n",
        "repetitions = (a, b) \n",
        "a1=np.tile(arr, repetitions)\n",
        "print(\"\\nRepeating arr : \\n\", np.tile(arr, repetitions)) \n",
        "print(\"arr Shape : \\n\", np.tile(arr, repetitions).shape)\n",
        "a = 2\n",
        "b = 3  \n",
        "repetitions = (a, b) \n",
        "b1=np.tile(arr, repetitions)\n",
        "print(\"\\nRepeating arr : \\n\", np.tile(arr, repetitions)) \n",
        "print(\"arr Shape : \\n\", np.tile(arr, repetitions).shape) \n",
        "a = 2\n",
        "b = 3\n",
        "repetitions = (a, b) \n",
        "#arr er value gulo k 2 dia divide kortesi\n",
        "print(\"\\nRepeating arr : \\n\", np.tile(arr, repetitions)/2) \n",
        "print(\"arr Shape : \\n\", np.tile(arr, repetitions).shape) \n",
        "out_grid1=np.stack([a1,b1],axis=1)\n",
        "#print('out_grid ###################################################\\n',out_grid1)"
      ],
      "execution_count": null,
      "outputs": [
        {
          "output_type": "stream",
          "text": [
            "arr : \n",
            " [0. 1. 2.]\n",
            "\n",
            "Repeating arr : \n",
            " [[0. 1. 2. 0. 1. 2.]\n",
            " [0. 1. 2. 0. 1. 2.]]\n",
            "arr Shape : \n",
            " (2, 6)\n",
            "\n",
            "Repeating arr : \n",
            " [[0. 1. 2. 0. 1. 2. 0. 1. 2. 0. 1. 2.]\n",
            " [0. 1. 2. 0. 1. 2. 0. 1. 2. 0. 1. 2.]\n",
            " [0. 1. 2. 0. 1. 2. 0. 1. 2. 0. 1. 2.]]\n",
            "arr Shape : \n",
            " (3, 12)\n",
            "\n",
            "Repeating arr : \n",
            " [[0. 1. 2. 0. 1. 2. 0. 1. 2.]\n",
            " [0. 1. 2. 0. 1. 2. 0. 1. 2.]]\n",
            "arr Shape : \n",
            " (2, 9)\n",
            "\n",
            "Repeating arr : \n",
            " [[0.  0.5 1.  0.  0.5 1.  0.  0.5 1. ]\n",
            " [0.  0.5 1.  0.  0.5 1.  0.  0.5 1. ]]\n",
            "arr Shape : \n",
            " (2, 9)\n"
          ],
          "name": "stdout"
        }
      ]
    },
    {
      "cell_type": "markdown",
      "metadata": {
        "id": "bCXoMKJojyQQ"
      },
      "source": [
        "**With the help of Numpy.expand_dims() method, we can get the expanded dimensions of an array by using Numpy.expand_dims() method.**"
      ]
    },
    {
      "cell_type": "code",
      "metadata": {
        "colab": {
          "base_uri": "https://localhost:8080/"
        },
        "id": "NP6oq13ch8IT",
        "outputId": "bd38c89c-4136-4a6d-8a9e-edf9a73da08d"
      },
      "source": [
        "#https://numpy.org/doc/stable/reference/generated/numpy.expand_dims.html\n",
        "#https://www.geeksforgeeks.org/python-numpy-expand_dims-method/\n",
        "x1=np.array([1,2])\n",
        "print('x1 : ',x1,'       Shape : ',x1.shape)\n",
        "# ***** np.expand_dims(x, axis=0)   equivalent to x[np.newaxis, :] or x[np.newaxis]:\n",
        "y1=np.expand_dims(x1,axis=0)\n",
        "print('y : ',x1,'       Shape : ',y1.shape)\n",
        "#np.expand_dims(x,axis=1)     equivalent to x[:, np.newaxis]:\n",
        "y1=np.expand_dims(x1,axis=1)\n",
        "print('y : ',x1,'       Shape : ',y1.shape)\n"
      ],
      "execution_count": null,
      "outputs": [
        {
          "output_type": "stream",
          "text": [
            "x1 :  [1. 2.]        Shape :  (2,)\n",
            "y :  [1. 2.]        Shape :  (1, 2)\n",
            "y :  [1. 2.]        Shape :  (2, 1)\n"
          ],
          "name": "stdout"
        }
      ]
    },
    {
      "cell_type": "code",
      "metadata": {
        "id": "FWEYJeVRjcz2"
      },
      "source": [
        ""
      ],
      "execution_count": null,
      "outputs": []
    },
    {
      "cell_type": "markdown",
      "metadata": {
        "id": "F1TSOr6zjdfz"
      },
      "source": [
        "**Anchor box algorithm :** \n",
        "\n",
        "*************** **Previously** *************\n",
        "\n",
        "**Each object in training image is assigned to grid cell that contains that object's midpoint** (each grid cell that means j grid cell a object ase er vitore j kono point a object er midpoint must thakbe)"
      ]
    },
    {
      "cell_type": "code",
      "metadata": {
        "id": "H_hlPJ6QJeea"
      },
      "source": [
        "def multibox_prior(data,sizes,ratios):\n",
        "  in_height,in_width=data.shape[-2:]\n",
        "  print('in_height : ',in_height,'     in_width : ',in_width)\n",
        "  #data.ctx : kon dvice use korsi cpu or gpu or tpu\n",
        "  device,num_sizes,num_ratios=data.ctx,len(sizes),len(ratios)\n",
        "  boxes_per_pixel=(num_sizes+num_ratios-1)\n",
        "  print('boxes_per_pixel : ',boxes_per_pixel,'   device : ',device)\n",
        "  #ctx=device na dileo colbeeeee\n",
        "  size_tensor = np.array(sizes, ctx=device)\n",
        "  ratio_tensor=np.array(ratios,ctx=device)\n",
        "  print('size_tensor : ',size_tensor,'     ratio_tensor : ',ratio_tensor)\n",
        "  # offsets are required to move the anchor to center of a pixel\n",
        "  # since pixel(height=1,width=1), we choose to offset our center by 0.5\n",
        "  offset_h,offset_w=0.5,0.5\n",
        "  #For example consider the width of an image = 256px = 1 unit, then a 40px wide object \n",
        "  #occupies 40px / 256px = 0.15625 units of width – the object occupies 15.62% of the total image width.\n",
        "  steps_h=1.0/in_height       #scaled steps in y axis\n",
        "  steps_w=1.0/in_width        #scaled steps in x axis\n",
        "  print('steps_h : ',steps_h,'     steps_w : ',steps_w)\n",
        "  center_h=(np.arange(in_height,ctx=device)+offset_h)*steps_h\n",
        "  #print('center_h : ##########################################################\\n',center_h)\n",
        "  center_w=(np.arange(in_width,ctx=device)+offset_w)*steps_w\n",
        "  #print('center_w : ##########################################################\\n',center_w)\n",
        "\n",
        "  shift_x,shift_y=np.meshgrid(center_w,center_h)\n",
        "  print('shift_x : ##########################################################\\n',shift_x)\n",
        "  print('shift_y : ##########################################################\\n',shift_y)\n",
        "\n",
        "  #print('ratio_tensor[0] : ',ratio_tensor[0],'       ratio_tensor[1] :',ratio_tensor[1:])\n",
        "  #### convert the shift_x and shift_y into 1D array using .reshape(-1) method\n",
        "  shift_x,shift_y=shift_x.reshape(-1),shift_y.reshape(-1)\n",
        "  print('After .reshape(-1) shift_x : ########################################\\n',shift_x)\n",
        "  print('size_tensor*np.sqrt(ratio_tensor[0]) : ',size_tensor*np.sqrt(ratio_tensor[0]))\n",
        "  print('sizes[0]*np.sqrt(ratio_tensor[1:])   : ',sizes[0]*np.sqrt(ratio_tensor[1:]))\n",
        "  ######### to concatenate need extra () parenthesis so, .concatenate(()) ############\n",
        "  concat=np.concatenate((size_tensor*np.sqrt(ratio_tensor[0]),sizes[0]*np.sqrt(ratio_tensor[1:])))\n",
        "  #Generate boxes_per_pixel number of heights and weidths which are later used to create anchor box corner\n",
        "  #cordinates(Xmin,Xmax,Ymin,Ymax) concat (various sizes,first ratio) and (first size,various ratios)\n",
        "  \n",
        "  ######### to concatenate need extra () parenthesis so, .concatenate(()) ############\n",
        "  w = np.concatenate((size_tensor*np.sqrt(ratio_tensor[0]),sizes[0]*np.sqrt(ratio_tensor[1:])))*(in_height/in_width)\n",
        "  print('(size_tensor*np.sqrt(ratio_tensor[0]),sizes[0]*np.sqrt(ratio_tensor[1:]))*(in_height/in_width):',w)\n",
        "  h=np.concatenate((size_tensor/np.sqrt(ratio_tensor[0]),sizes[0]/np.sqrt(ratio_tensor[1:])))\n",
        "  print('concatenate(size_tensor/np.sqrt(ratio_tensor[0]),sizes[0]/np.sqrt(ratio_tensor[1:]) :',h)\n",
        "  print('anchor before transpose : ###############################################\\n',np.stack((-w,-h,w,h)))\n",
        "  print('anchor after transpose : ###############################################\\n',np.stack((-w,-h,w,h)).T)\n",
        "  anchor_manipulations=np.tile(np.stack((-w,-h,w,h)).T,(in_height*in_width,1))/2\n",
        "  print('anchor_manipulations ###########################################\\n',anchor_manipulations)\n",
        "  #each center point will have boxes_per_pixel number of anchor boxes, so\n",
        "  #generate grid of all anchor box centers with boxes_per_pixel repeats\n",
        "  out_gr=np.stack([shift_x,shift_y,shift_x,shift_y])\n",
        "  print('out_gr ########################################################### \\n',out_gr)\n",
        "  out_grid=np.stack([shift_x,shift_y,shift_x,shift_y],axis=1).repeat(boxes_per_pixel,axis=0)\n",
        "  print('out_grid ########################################################### \\n',out_grid)\n",
        "  output=out_grid+anchor_manipulations\n",
        "  print('output #############################################################\\n',output)\n",
        "  return np.expand_dims(output,axis=0)"
      ],
      "execution_count": null,
      "outputs": []
    },
    {
      "cell_type": "code",
      "metadata": {
        "colab": {
          "base_uri": "https://localhost:8080/"
        },
        "id": "EeXFpP2wideF",
        "outputId": "1cfe2605-f16b-4e84-a6fe-a53e08f7e51c"
      },
      "source": [
        "a=np.array([[[1, 2, 3, 4, 5],\n",
        "    [6, 7, 8, 9, 10]]])\n",
        "aa=a[0,:,:]\n",
        "print('a : ##########################\\n',a)\n",
        "print('a : ##########################\\n',aa[:,1:])"
      ],
      "execution_count": null,
      "outputs": [
        {
          "output_type": "stream",
          "text": [
            "a : ##########################\n",
            " [[[ 1.  2.  3.  4.  5.]\n",
            "  [ 6.  7.  8.  9. 10.]]]\n",
            "a : ##########################\n",
            " [[ 2.  3.  4.  5.]\n",
            " [ 7.  8.  9. 10.]]\n"
          ],
          "name": "stdout"
        }
      ]
    },
    {
      "cell_type": "code",
      "metadata": {
        "colab": {
          "base_uri": "https://localhost:8080/"
        },
        "id": "AuFReBEcXmNa",
        "outputId": "84032e0e-6607-4ab5-baa5-f45180693eb6"
      },
      "source": [
        "\n",
        "h,w=img.shape[0:2]\n",
        "print('h : ',h,'    w : ',w)\n",
        "x=np.random.uniform(size=(1,3,h,w))  #construct input data\n",
        "#https://www.wovenware.com/blog/2020/06/anchor-boxes-in-object-detection-when-where-and-how-to-propose-them-for-deep-learning-apps/\n",
        "#https://upscfever.com/upsc-fever/en/data/deeplearning4/22.html\n",
        "y=multibox_prior(x,sizes=[0.75,0.5,0.25],ratios=[1,2,0.5])\n",
        "print(' Shape of y from multibox_prior : ',y.shape)\n",
        "#print('x  :  \\n',x)\n"
      ],
      "execution_count": null,
      "outputs": [
        {
          "output_type": "stream",
          "text": [
            "h :  561     w :  728\n",
            "in_height :  561      in_width :  728\n",
            "boxes_per_pixel :  5    device :  cpu(0)\n",
            "size_tensor :  [0.75 0.5  0.25]      ratio_tensor :  [1.  2.  0.5]\n",
            "steps_h :  0.0017825311942959      steps_w :  0.0013736263736263737\n",
            "shift_x : ##########################################################\n",
            " [[6.87e-04 2.06e-03 3.43e-03 ... 9.97e-01 9.98e-01 9.99e-01]\n",
            " [6.87e-04 2.06e-03 3.43e-03 ... 9.97e-01 9.98e-01 9.99e-01]\n",
            " [6.87e-04 2.06e-03 3.43e-03 ... 9.97e-01 9.98e-01 9.99e-01]\n",
            " ...\n",
            " [6.87e-04 2.06e-03 3.43e-03 ... 9.97e-01 9.98e-01 9.99e-01]\n",
            " [6.87e-04 2.06e-03 3.43e-03 ... 9.97e-01 9.98e-01 9.99e-01]\n",
            " [6.87e-04 2.06e-03 3.43e-03 ... 9.97e-01 9.98e-01 9.99e-01]]\n",
            "shift_y : ##########################################################\n",
            " [[8.91e-04 8.91e-04 8.91e-04 ... 8.91e-04 8.91e-04 8.91e-04]\n",
            " [2.67e-03 2.67e-03 2.67e-03 ... 2.67e-03 2.67e-03 2.67e-03]\n",
            " [4.46e-03 4.46e-03 4.46e-03 ... 4.46e-03 4.46e-03 4.46e-03]\n",
            " ...\n",
            " [9.96e-01 9.96e-01 9.96e-01 ... 9.96e-01 9.96e-01 9.96e-01]\n",
            " [9.97e-01 9.97e-01 9.97e-01 ... 9.97e-01 9.97e-01 9.97e-01]\n",
            " [9.99e-01 9.99e-01 9.99e-01 ... 9.99e-01 9.99e-01 9.99e-01]]\n",
            "After .reshape(-1) shift_x : ########################################\n",
            " [6.87e-04 2.06e-03 3.43e-03 ... 9.97e-01 9.98e-01 9.99e-01]\n",
            "size_tensor*np.sqrt(ratio_tensor[0]) :  [0.75 0.5  0.25]\n",
            "sizes[0]*np.sqrt(ratio_tensor[1:])   :  [1.06 0.53]\n",
            "(size_tensor*np.sqrt(ratio_tensor[0]),sizes[0]*np.sqrt(ratio_tensor[1:]))*(in_height/in_width): [0.58 0.39 0.19 0.82 0.41]\n",
            "concatenate(size_tensor/np.sqrt(ratio_tensor[0]),sizes[0]/np.sqrt(ratio_tensor[1:]) : [0.75 0.5  0.25 0.53 1.06]\n",
            "anchor before transpose : ###############################################\n",
            " [[-0.58 -0.39 -0.19 -0.82 -0.41]\n",
            " [-0.75 -0.5  -0.25 -0.53 -1.06]\n",
            " [ 0.58  0.39  0.19  0.82  0.41]\n",
            " [ 0.75  0.5   0.25  0.53  1.06]]\n",
            "anchor after transpose : ###############################################\n",
            " [[-0.58 -0.75  0.58  0.75]\n",
            " [-0.39 -0.5   0.39  0.5 ]\n",
            " [-0.19 -0.25  0.19  0.25]\n",
            " [-0.82 -0.53  0.82  0.53]\n",
            " [-0.41 -1.06  0.41  1.06]]\n",
            "anchor_manipulations ###########################################\n",
            " [[-0.29 -0.38  0.29  0.38]\n",
            " [-0.19 -0.25  0.19  0.25]\n",
            " [-0.1  -0.12  0.1   0.12]\n",
            " ...\n",
            " [-0.1  -0.12  0.1   0.12]\n",
            " [-0.41 -0.27  0.41  0.27]\n",
            " [-0.2  -0.53  0.2   0.53]]\n",
            "out_gr ########################################################### \n",
            " [[6.87e-04 2.06e-03 3.43e-03 ... 9.97e-01 9.98e-01 9.99e-01]\n",
            " [8.91e-04 8.91e-04 8.91e-04 ... 9.99e-01 9.99e-01 9.99e-01]\n",
            " [6.87e-04 2.06e-03 3.43e-03 ... 9.97e-01 9.98e-01 9.99e-01]\n",
            " [8.91e-04 8.91e-04 8.91e-04 ... 9.99e-01 9.99e-01 9.99e-01]]\n",
            "out_grid ########################################################### \n",
            " [[6.87e-04 8.91e-04 6.87e-04 8.91e-04]\n",
            " [6.87e-04 8.91e-04 6.87e-04 8.91e-04]\n",
            " [6.87e-04 8.91e-04 6.87e-04 8.91e-04]\n",
            " ...\n",
            " [9.99e-01 9.99e-01 9.99e-01 9.99e-01]\n",
            " [9.99e-01 9.99e-01 9.99e-01 9.99e-01]\n",
            " [9.99e-01 9.99e-01 9.99e-01 9.99e-01]]\n",
            "output #############################################################\n",
            " [[-0.29 -0.37  0.29  0.38]\n",
            " [-0.19 -0.25  0.19  0.25]\n",
            " [-0.1  -0.12  0.1   0.13]\n",
            " ...\n",
            " [ 0.9   0.87  1.1   1.12]\n",
            " [ 0.59  0.73  1.41  1.26]\n",
            " [ 0.79  0.47  1.2   1.53]]\n",
            " Shape of y from multibox_prior :  (1, 2042040, 4)\n"
          ],
          "name": "stdout"
        }
      ]
    },
    {
      "cell_type": "markdown",
      "metadata": {
        "id": "L3XmKVV795Df"
      },
      "source": [
        "**Convert the following 1-D array with 12 elements into a 3-D array.**\n",
        "\n",
        "**The outermost dimension will have 2 arrays that contains 3 arrays, each with 2 elements:**"
      ]
    },
    {
      "cell_type": "code",
      "metadata": {
        "colab": {
          "base_uri": "https://localhost:8080/"
        },
        "id": "Xt37h9ZD94Uy",
        "outputId": "ef3ebdcb-129b-4224-99cf-5cd44903a24d"
      },
      "source": [
        "#https://www.w3schools.com/python/numpy_array_reshape.asp\n",
        "#import numpy as np\n",
        "arr = np.array([1, 2, 3, 4, 5, 6, 7, 8, 9, 10, 11, 12])\n",
        "newarr = arr.reshape(2, 3, 2)\n",
        "#print(newarr)\n",
        "newarr = arr.reshape(2, 3, 2,1)\n",
        "\n",
        "arr=np.linspace(1,24,24)\n",
        "newarr = arr.reshape(2,3,2,2)\n",
        "print('#########################################\\n',newarr)\n",
        "print('################################\\n',newarr[1,1,0])\n",
        "arr=np.linspace(1,120,120)\n",
        "newarr = arr.reshape(2,3,4,5)\n",
        "#print('#########',newarr[0])\n",
        "print('################################\\n',newarr)"
      ],
      "execution_count": null,
      "outputs": [
        {
          "output_type": "stream",
          "text": [
            "#########################################\n",
            " [[[[ 1.  2.]\n",
            "   [ 3.  4.]]\n",
            "\n",
            "  [[ 5.  6.]\n",
            "   [ 7.  8.]]\n",
            "\n",
            "  [[ 9. 10.]\n",
            "   [11. 12.]]]\n",
            "\n",
            "\n",
            " [[[13. 14.]\n",
            "   [15. 16.]]\n",
            "\n",
            "  [[17. 18.]\n",
            "   [19. 20.]]\n",
            "\n",
            "  [[21. 22.]\n",
            "   [23. 24.]]]]\n",
            "################################\n",
            " [17. 18.]\n",
            "################################\n",
            " [[[[  1.   2.   3.   4.   5.]\n",
            "   [  6.   7.   8.   9.  10.]\n",
            "   [ 11.  12.  13.  14.  15.]\n",
            "   [ 16.  17.  18.  19.  20.]]\n",
            "\n",
            "  [[ 21.  22.  23.  24.  25.]\n",
            "   [ 26.  27.  28.  29.  30.]\n",
            "   [ 31.  32.  33.  34.  35.]\n",
            "   [ 36.  37.  38.  39.  40.]]\n",
            "\n",
            "  [[ 41.  42.  43.  44.  45.]\n",
            "   [ 46.  47.  48.  49.  50.]\n",
            "   [ 51.  52.  53.  54.  55.]\n",
            "   [ 56.  57.  58.  59.  60.]]]\n",
            "\n",
            "\n",
            " [[[ 61.  62.  63.  64.  65.]\n",
            "   [ 66.  67.  68.  69.  70.]\n",
            "   [ 71.  72.  73.  74.  75.]\n",
            "   [ 76.  77.  78.  79.  80.]]\n",
            "\n",
            "  [[ 81.  82.  83.  84.  85.]\n",
            "   [ 86.  87.  88.  89.  90.]\n",
            "   [ 91.  92.  93.  94.  95.]\n",
            "   [ 96.  97.  98.  99. 100.]]\n",
            "\n",
            "  [[101. 102. 103. 104. 105.]\n",
            "   [106. 107. 108. 109. 110.]\n",
            "   [111. 112. 113. 114. 115.]\n",
            "   [116. 117. 118. 119. 120.]]]]\n"
          ],
          "name": "stdout"
        }
      ]
    },
    {
      "cell_type": "code",
      "metadata": {
        "id": "taaxGTJvR2jb",
        "colab": {
          "base_uri": "https://localhost:8080/"
        },
        "outputId": "d29877b7-4e10-4e58-a66f-412eeede09fd"
      },
      "source": [
        "newarr[1,1,0:]"
      ],
      "execution_count": null,
      "outputs": [
        {
          "output_type": "execute_result",
          "data": {
            "text/plain": [
              "array([[ 81.,  82.,  83.,  84.,  85.],\n",
              "       [ 86.,  87.,  88.,  89.,  90.],\n",
              "       [ 91.,  92.,  93.,  94.,  95.],\n",
              "       [ 96.,  97.,  98.,  99., 100.]])"
            ]
          },
          "metadata": {
            "tags": []
          },
          "execution_count": 19
        }
      ]
    },
    {
      "cell_type": "code",
      "metadata": {
        "id": "ytl4ojCvaoM2",
        "colab": {
          "base_uri": "https://localhost:8080/"
        },
        "outputId": "aa7060c0-756f-474a-d33d-cb645d4e3227"
      },
      "source": [
        "h,w=img.shape[0:2]\n",
        "print('h : ',h,'    w : ',w)\n",
        "print(' Shape of y from multibox_prior : ',y.shape)\n",
        "print('y from multibox_prior ###############################################\\n',y)\n",
        "boxes=y.reshape(h,w,5,4)\n",
        "print('boxes_shape ###############################################################\\n',boxes.shape)\n",
        "#print('boxes ###############################################################\\n',boxes)\n",
        "print('boxes[250,250,0,:] : ',boxes[250,250,0,:])\n",
        "print('boxes[250,250,:,:] : ################################## \\n',boxes[250,250,:,:])\n"
      ],
      "execution_count": null,
      "outputs": [
        {
          "output_type": "stream",
          "text": [
            "h :  561     w :  728\n",
            " Shape of y from multibox_prior :  (1, 2042040, 4)\n",
            "y from multibox_prior ###############################################\n",
            " [[[-0.29 -0.37  0.29  0.38]\n",
            "  [-0.19 -0.25  0.19  0.25]\n",
            "  [-0.1  -0.12  0.1   0.13]\n",
            "  ...\n",
            "  [ 0.9   0.87  1.1   1.12]\n",
            "  [ 0.59  0.73  1.41  1.26]\n",
            "  [ 0.79  0.47  1.2   1.53]]]\n",
            "boxes_shape ###############################################################\n",
            " (561, 728, 5, 4)\n",
            "boxes[250,250,0,:] :  [0.06 0.07 0.63 0.82]\n",
            "boxes[250,250,:,:] : ################################## \n",
            " [[ 0.06  0.07  0.63  0.82]\n",
            " [ 0.15  0.2   0.54  0.7 ]\n",
            " [ 0.25  0.32  0.44  0.57]\n",
            " [-0.06  0.18  0.75  0.71]\n",
            " [ 0.14 -0.08  0.55  0.98]]\n"
          ],
          "name": "stdout"
        }
      ]
    },
    {
      "cell_type": "code",
      "metadata": {
        "id": "H_CTYVObXOJC"
      },
      "source": [
        "def show_bboxes(axes, bboxes, labels=None, colors=None):\n",
        "  def _make_list(obj, default_values=None):\n",
        "    #print('inside _make_list obj : ',obj)\n",
        "    if obj is None:\n",
        "      obj = default_values\n",
        "    elif not isinstance(obj, (list, tuple)):\n",
        "      obj = [obj]\n",
        "    print('inside _make_list obj : ',obj)\n",
        "    return obj\n",
        "\n",
        "  labels = _make_list(labels)\n",
        "  colors = _make_list(colors, ['b', 'g', 'r', 'm', 'c'])\n",
        "  for i,bbox in enumerate(bboxes):\n",
        "    color=colors[(i%len(colors))]\n",
        "    #print('i : ',i,'     bbox : ',bbox,'     colors : ',color)\n",
        "    #print('label : ',labels,'     len_label',len(labels))\n",
        "    rect=d2l.bbox_to_rect(bbox.asnumpy(),color)\n",
        "    axes.add_patch(rect)\n",
        "    if labels and len(labels) > i:\n",
        "            text_color = 'k' if color == 'w' else 'w'\n",
        "            axes.text(rect.xy[0],\n",
        "                      rect.xy[1],\n",
        "                      labels[i],\n",
        "                      va='center',\n",
        "                      ha='center',\n",
        "                      fontsize=9,\n",
        "                      color=text_color,\n",
        "                      bbox=dict(facecolor=color, lw=0))"
      ],
      "execution_count": null,
      "outputs": []
    },
    {
      "cell_type": "code",
      "metadata": {
        "id": "Z4eHfmd393KV"
      },
      "source": [
        ""
      ],
      "execution_count": null,
      "outputs": []
    },
    {
      "cell_type": "code",
      "metadata": {
        "id": "E67-HnpoXOLp",
        "colab": {
          "base_uri": "https://localhost:8080/",
          "height": 428
        },
        "outputId": "ade55361-3ca6-4124-d9da-c13589da6f7a"
      },
      "source": [
        "d2l.set_figsize()\n",
        "bbox_scale = np.array((w, h, w, h))\n",
        "fig = d2l.plt.imshow(img)\n",
        "print('fig.axes : ',fig.axes)\n",
        "show_bboxes(fig.axes, boxes[250, 250, :, :] * bbox_scale,\n",
        "            ['s=0.75, r=1', 's=0.5, r=1', 's=0.25, r=1', 's=0.75, r=2',\n",
        "             's=0.75, r=0.5'])\n",
        "print('bbox_scale : ',bbox_scale)\n",
        "print('boxes[250, 250, :, :] * bbox_scale : ',boxes[250, 250, :, :] * bbox_scale)"
      ],
      "execution_count": null,
      "outputs": [
        {
          "output_type": "stream",
          "text": [
            "fig.axes :  AxesSubplot(0.125,0.125;0.775x0.755)\n",
            "inside _make_list obj :  ['s=0.75, r=1', 's=0.5, r=1', 's=0.25, r=1', 's=0.75, r=2', 's=0.75, r=0.5']\n",
            "inside _make_list obj :  ['b', 'g', 'r', 'm', 'c']\n",
            "bbox_scale :  [728. 561. 728. 561.]\n",
            "boxes[250, 250, :, :] * bbox_scale :  [[ 40.13  40.12 460.88 460.87]\n",
            " [110.25 110.25 390.75 390.75]\n",
            " [180.38 180.38 320.62 320.62]\n",
            " [-47.02 101.74 548.02 399.26]\n",
            " [101.74 -47.02 399.26 548.02]]\n"
          ],
          "name": "stdout"
        },
        {
          "output_type": "display_data",
          "data": {
            "text/plain": [
              "<Figure size 252x180 with 1 Axes>"
            ],
            "image/svg+xml": "<?xml version=\"1.0\" encoding=\"utf-8\" standalone=\"no\"?>\n<!DOCTYPE svg PUBLIC \"-//W3C//DTD SVG 1.1//EN\"\n  \"http://www.w3.org/Graphics/SVG/1.1/DTD/svg11.dtd\">\n<!-- Created with matplotlib (https://matplotlib.org/) -->\n<svg height=\"182.601403pt\" version=\"1.1\" viewBox=\"0 0 229.502016 182.601403\" width=\"229.502016pt\" xmlns=\"http://www.w3.org/2000/svg\" xmlns:xlink=\"http://www.w3.org/1999/xlink\">\n <defs>\n  <style type=\"text/css\">\n*{stroke-linecap:butt;stroke-linejoin:round;}\n  </style>\n </defs>\n <g id=\"figure_1\">\n  <g id=\"patch_1\">\n   <path d=\"M 0 182.601403 \nL 229.502016 182.601403 \nL 229.502016 0 \nL 0 0 \nz\n\" style=\"fill:none;\"/>\n  </g>\n  <g id=\"axes_1\">\n   <g id=\"patch_2\">\n    <path d=\"M 45.946936 158.723278 \nL 222.302016 158.723278 \nL 222.302016 22.823278 \nL 45.946936 22.823278 \nz\n\" style=\"fill:#ffffff;\"/>\n   </g>\n   <g clip-path=\"url(#p4d8cbc0b8f)\">\n    <image height=\"136\" id=\"image3c535afce2\" transform=\"scale(1 -1)translate(0 -136)\" width=\"177\" x=\"45.946936\" xlink:href=\"data:image/png;base64,\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\" y=\"-22.723278\"/>\n   </g>\n   <g id=\"patch_3\">\n    <path clip-path=\"url(#p4d8cbc0b8f)\" d=\"M 55.788182 32.66452 \nL 157.71318 32.66452 \nL 157.71318 134.589514 \nL 55.788182 134.589514 \nz\n\" style=\"fill:none;stroke:#0000ff;stroke-linejoin:miter;stroke-width:2;\"/>\n   </g>\n   <g id=\"patch_4\">\n    <path clip-path=\"url(#p4d8cbc0b8f)\" d=\"M 72.775681 49.65202 \nL 140.725672 49.65202 \nL 140.725672 117.602014 \nL 72.775681 117.602014 \nz\n\" style=\"fill:none;stroke:#008000;stroke-linejoin:miter;stroke-width:2;\"/>\n   </g>\n   <g id=\"patch_5\">\n    <path clip-path=\"url(#p4d8cbc0b8f)\" d=\"M 89.76318 66.639522 \nL 123.73818 66.639522 \nL 123.73818 100.614514 \nL 89.76318 100.614514 \nz\n\" style=\"fill:none;stroke:#ff0000;stroke-linejoin:miter;stroke-width:2;\"/>\n   </g>\n   <g id=\"patch_6\">\n    <path clip-path=\"url(#p4d8cbc0b8f)\" d=\"M 34.678828 47.591088 \nL 178.822528 47.591088 \nL 178.822528 119.662953 \nL 34.678828 119.662953 \nz\n\" style=\"fill:none;stroke:#bf00bf;stroke-linejoin:miter;stroke-width:2;\"/>\n   </g>\n   <g id=\"patch_7\">\n    <path clip-path=\"url(#p4d8cbc0b8f)\" d=\"M 70.714755 11.555156 \nL 142.786604 11.555156 \nL 142.786604 155.698885 \nL 70.714755 155.698885 \nz\n\" style=\"fill:none;stroke:#00bfbf;stroke-linejoin:miter;stroke-width:2;\"/>\n   </g>\n   <g id=\"matplotlib.axis_1\">\n    <g id=\"xtick_1\">\n     <g id=\"line2d_1\">\n      <defs>\n       <path d=\"M 0 0 \nL 0 3.5 \n\" id=\"md802e3163d\" style=\"stroke:#000000;stroke-width:0.8;\"/>\n      </defs>\n      <g>\n       <use style=\"stroke:#000000;stroke-width:0.8;\" x=\"46.068059\" xlink:href=\"#md802e3163d\" y=\"158.723278\"/>\n      </g>\n     </g>\n     <g id=\"text_1\">\n      <!-- 0 -->\n      <defs>\n       <path d=\"M 31.78125 66.40625 \nQ 24.171875 66.40625 20.328125 58.90625 \nQ 16.5 51.421875 16.5 36.375 \nQ 16.5 21.390625 20.328125 13.890625 \nQ 24.171875 6.390625 31.78125 6.390625 \nQ 39.453125 6.390625 43.28125 13.890625 \nQ 47.125 21.390625 47.125 36.375 \nQ 47.125 51.421875 43.28125 58.90625 \nQ 39.453125 66.40625 31.78125 66.40625 \nz\nM 31.78125 74.21875 \nQ 44.046875 74.21875 50.515625 64.515625 \nQ 56.984375 54.828125 56.984375 36.375 \nQ 56.984375 17.96875 50.515625 8.265625 \nQ 44.046875 -1.421875 31.78125 -1.421875 \nQ 19.53125 -1.421875 13.0625 8.265625 \nQ 6.59375 17.96875 6.59375 36.375 \nQ 6.59375 54.828125 13.0625 64.515625 \nQ 19.53125 74.21875 31.78125 74.21875 \nz\n\" id=\"DejaVuSans-48\"/>\n      </defs>\n      <g transform=\"translate(42.886809 173.321716)scale(0.1 -0.1)\">\n       <use xlink:href=\"#DejaVuSans-48\"/>\n      </g>\n     </g>\n    </g>\n    <g id=\"xtick_2\">\n     <g id=\"line2d_2\">\n      <g>\n       <use style=\"stroke:#000000;stroke-width:0.8;\" x=\"94.517257\" xlink:href=\"#md802e3163d\" y=\"158.723278\"/>\n      </g>\n     </g>\n     <g id=\"text_2\">\n      <!-- 200 -->\n      <defs>\n       <path d=\"M 19.1875 8.296875 \nL 53.609375 8.296875 \nL 53.609375 0 \nL 7.328125 0 \nL 7.328125 8.296875 \nQ 12.9375 14.109375 22.625 23.890625 \nQ 32.328125 33.6875 34.8125 36.53125 \nQ 39.546875 41.84375 41.421875 45.53125 \nQ 43.3125 49.21875 43.3125 52.78125 \nQ 43.3125 58.59375 39.234375 62.25 \nQ 35.15625 65.921875 28.609375 65.921875 \nQ 23.96875 65.921875 18.8125 64.3125 \nQ 13.671875 62.703125 7.8125 59.421875 \nL 7.8125 69.390625 \nQ 13.765625 71.78125 18.9375 73 \nQ 24.125 74.21875 28.421875 74.21875 \nQ 39.75 74.21875 46.484375 68.546875 \nQ 53.21875 62.890625 53.21875 53.421875 \nQ 53.21875 48.921875 51.53125 44.890625 \nQ 49.859375 40.875 45.40625 35.40625 \nQ 44.1875 33.984375 37.640625 27.21875 \nQ 31.109375 20.453125 19.1875 8.296875 \nz\n\" id=\"DejaVuSans-50\"/>\n      </defs>\n      <g transform=\"translate(84.973507 173.321716)scale(0.1 -0.1)\">\n       <use xlink:href=\"#DejaVuSans-50\"/>\n       <use x=\"63.623047\" xlink:href=\"#DejaVuSans-48\"/>\n       <use x=\"127.246094\" xlink:href=\"#DejaVuSans-48\"/>\n      </g>\n     </g>\n    </g>\n    <g id=\"xtick_3\">\n     <g id=\"line2d_3\">\n      <g>\n       <use style=\"stroke:#000000;stroke-width:0.8;\" x=\"142.966455\" xlink:href=\"#md802e3163d\" y=\"158.723278\"/>\n      </g>\n     </g>\n     <g id=\"text_3\">\n      <!-- 400 -->\n      <defs>\n       <path d=\"M 37.796875 64.3125 \nL 12.890625 25.390625 \nL 37.796875 25.390625 \nz\nM 35.203125 72.90625 \nL 47.609375 72.90625 \nL 47.609375 25.390625 \nL 58.015625 25.390625 \nL 58.015625 17.1875 \nL 47.609375 17.1875 \nL 47.609375 0 \nL 37.796875 0 \nL 37.796875 17.1875 \nL 4.890625 17.1875 \nL 4.890625 26.703125 \nz\n\" id=\"DejaVuSans-52\"/>\n      </defs>\n      <g transform=\"translate(133.422705 173.321716)scale(0.1 -0.1)\">\n       <use xlink:href=\"#DejaVuSans-52\"/>\n       <use x=\"63.623047\" xlink:href=\"#DejaVuSans-48\"/>\n       <use x=\"127.246094\" xlink:href=\"#DejaVuSans-48\"/>\n      </g>\n     </g>\n    </g>\n    <g id=\"xtick_4\">\n     <g id=\"line2d_4\">\n      <g>\n       <use style=\"stroke:#000000;stroke-width:0.8;\" x=\"191.415653\" xlink:href=\"#md802e3163d\" y=\"158.723278\"/>\n      </g>\n     </g>\n     <g id=\"text_4\">\n      <!-- 600 -->\n      <defs>\n       <path d=\"M 33.015625 40.375 \nQ 26.375 40.375 22.484375 35.828125 \nQ 18.609375 31.296875 18.609375 23.390625 \nQ 18.609375 15.53125 22.484375 10.953125 \nQ 26.375 6.390625 33.015625 6.390625 \nQ 39.65625 6.390625 43.53125 10.953125 \nQ 47.40625 15.53125 47.40625 23.390625 \nQ 47.40625 31.296875 43.53125 35.828125 \nQ 39.65625 40.375 33.015625 40.375 \nz\nM 52.59375 71.296875 \nL 52.59375 62.3125 \nQ 48.875 64.0625 45.09375 64.984375 \nQ 41.3125 65.921875 37.59375 65.921875 \nQ 27.828125 65.921875 22.671875 59.328125 \nQ 17.53125 52.734375 16.796875 39.40625 \nQ 19.671875 43.65625 24.015625 45.921875 \nQ 28.375 48.1875 33.59375 48.1875 \nQ 44.578125 48.1875 50.953125 41.515625 \nQ 57.328125 34.859375 57.328125 23.390625 \nQ 57.328125 12.15625 50.6875 5.359375 \nQ 44.046875 -1.421875 33.015625 -1.421875 \nQ 20.359375 -1.421875 13.671875 8.265625 \nQ 6.984375 17.96875 6.984375 36.375 \nQ 6.984375 53.65625 15.1875 63.9375 \nQ 23.390625 74.21875 37.203125 74.21875 \nQ 40.921875 74.21875 44.703125 73.484375 \nQ 48.484375 72.75 52.59375 71.296875 \nz\n\" id=\"DejaVuSans-54\"/>\n      </defs>\n      <g transform=\"translate(181.871903 173.321716)scale(0.1 -0.1)\">\n       <use xlink:href=\"#DejaVuSans-54\"/>\n       <use x=\"63.623047\" xlink:href=\"#DejaVuSans-48\"/>\n       <use x=\"127.246094\" xlink:href=\"#DejaVuSans-48\"/>\n      </g>\n     </g>\n    </g>\n   </g>\n   <g id=\"matplotlib.axis_2\">\n    <g id=\"ytick_1\">\n     <g id=\"line2d_5\">\n      <defs>\n       <path d=\"M 0 0 \nL -3.5 0 \n\" id=\"me6e89aef34\" style=\"stroke:#000000;stroke-width:0.8;\"/>\n      </defs>\n      <g>\n       <use style=\"stroke:#000000;stroke-width:0.8;\" x=\"45.946936\" xlink:href=\"#me6e89aef34\" y=\"22.944401\"/>\n      </g>\n     </g>\n     <g id=\"text_5\">\n      <!-- 0 -->\n      <g transform=\"translate(32.584436 26.74362)scale(0.1 -0.1)\">\n       <use xlink:href=\"#DejaVuSans-48\"/>\n      </g>\n     </g>\n    </g>\n    <g id=\"ytick_2\">\n     <g id=\"line2d_6\">\n      <g>\n       <use style=\"stroke:#000000;stroke-width:0.8;\" x=\"45.946936\" xlink:href=\"#me6e89aef34\" y=\"47.169\"/>\n      </g>\n     </g>\n     <g id=\"text_6\">\n      <!-- 100 -->\n      <defs>\n       <path d=\"M 12.40625 8.296875 \nL 28.515625 8.296875 \nL 28.515625 63.921875 \nL 10.984375 60.40625 \nL 10.984375 69.390625 \nL 28.421875 72.90625 \nL 38.28125 72.90625 \nL 38.28125 8.296875 \nL 54.390625 8.296875 \nL 54.390625 0 \nL 12.40625 0 \nz\n\" id=\"DejaVuSans-49\"/>\n      </defs>\n      <g transform=\"translate(19.859436 50.968219)scale(0.1 -0.1)\">\n       <use xlink:href=\"#DejaVuSans-49\"/>\n       <use x=\"63.623047\" xlink:href=\"#DejaVuSans-48\"/>\n       <use x=\"127.246094\" xlink:href=\"#DejaVuSans-48\"/>\n      </g>\n     </g>\n    </g>\n    <g id=\"ytick_3\">\n     <g id=\"line2d_7\">\n      <g>\n       <use style=\"stroke:#000000;stroke-width:0.8;\" x=\"45.946936\" xlink:href=\"#me6e89aef34\" y=\"71.393599\"/>\n      </g>\n     </g>\n     <g id=\"text_7\">\n      <!-- 200 -->\n      <g transform=\"translate(19.859436 75.192818)scale(0.1 -0.1)\">\n       <use xlink:href=\"#DejaVuSans-50\"/>\n       <use x=\"63.623047\" xlink:href=\"#DejaVuSans-48\"/>\n       <use x=\"127.246094\" xlink:href=\"#DejaVuSans-48\"/>\n      </g>\n     </g>\n    </g>\n    <g id=\"ytick_4\">\n     <g id=\"line2d_8\">\n      <g>\n       <use style=\"stroke:#000000;stroke-width:0.8;\" x=\"45.946936\" xlink:href=\"#me6e89aef34\" y=\"95.618198\"/>\n      </g>\n     </g>\n     <g id=\"text_8\">\n      <!-- 300 -->\n      <defs>\n       <path d=\"M 40.578125 39.3125 \nQ 47.65625 37.796875 51.625 33 \nQ 55.609375 28.21875 55.609375 21.1875 \nQ 55.609375 10.40625 48.1875 4.484375 \nQ 40.765625 -1.421875 27.09375 -1.421875 \nQ 22.515625 -1.421875 17.65625 -0.515625 \nQ 12.796875 0.390625 7.625 2.203125 \nL 7.625 11.71875 \nQ 11.71875 9.328125 16.59375 8.109375 \nQ 21.484375 6.890625 26.8125 6.890625 \nQ 36.078125 6.890625 40.9375 10.546875 \nQ 45.796875 14.203125 45.796875 21.1875 \nQ 45.796875 27.640625 41.28125 31.265625 \nQ 36.765625 34.90625 28.71875 34.90625 \nL 20.21875 34.90625 \nL 20.21875 43.015625 \nL 29.109375 43.015625 \nQ 36.375 43.015625 40.234375 45.921875 \nQ 44.09375 48.828125 44.09375 54.296875 \nQ 44.09375 59.90625 40.109375 62.90625 \nQ 36.140625 65.921875 28.71875 65.921875 \nQ 24.65625 65.921875 20.015625 65.03125 \nQ 15.375 64.15625 9.8125 62.3125 \nL 9.8125 71.09375 \nQ 15.4375 72.65625 20.34375 73.4375 \nQ 25.25 74.21875 29.59375 74.21875 \nQ 40.828125 74.21875 47.359375 69.109375 \nQ 53.90625 64.015625 53.90625 55.328125 \nQ 53.90625 49.265625 50.4375 45.09375 \nQ 46.96875 40.921875 40.578125 39.3125 \nz\n\" id=\"DejaVuSans-51\"/>\n      </defs>\n      <g transform=\"translate(19.859436 99.417417)scale(0.1 -0.1)\">\n       <use xlink:href=\"#DejaVuSans-51\"/>\n       <use x=\"63.623047\" xlink:href=\"#DejaVuSans-48\"/>\n       <use x=\"127.246094\" xlink:href=\"#DejaVuSans-48\"/>\n      </g>\n     </g>\n    </g>\n    <g id=\"ytick_5\">\n     <g id=\"line2d_9\">\n      <g>\n       <use style=\"stroke:#000000;stroke-width:0.8;\" x=\"45.946936\" xlink:href=\"#me6e89aef34\" y=\"119.842797\"/>\n      </g>\n     </g>\n     <g id=\"text_9\">\n      <!-- 400 -->\n      <g transform=\"translate(19.859436 123.642016)scale(0.1 -0.1)\">\n       <use xlink:href=\"#DejaVuSans-52\"/>\n       <use x=\"63.623047\" xlink:href=\"#DejaVuSans-48\"/>\n       <use x=\"127.246094\" xlink:href=\"#DejaVuSans-48\"/>\n      </g>\n     </g>\n    </g>\n    <g id=\"ytick_6\">\n     <g id=\"line2d_10\">\n      <g>\n       <use style=\"stroke:#000000;stroke-width:0.8;\" x=\"45.946936\" xlink:href=\"#me6e89aef34\" y=\"144.067396\"/>\n      </g>\n     </g>\n     <g id=\"text_10\">\n      <!-- 500 -->\n      <defs>\n       <path d=\"M 10.796875 72.90625 \nL 49.515625 72.90625 \nL 49.515625 64.59375 \nL 19.828125 64.59375 \nL 19.828125 46.734375 \nQ 21.96875 47.46875 24.109375 47.828125 \nQ 26.265625 48.1875 28.421875 48.1875 \nQ 40.625 48.1875 47.75 41.5 \nQ 54.890625 34.8125 54.890625 23.390625 \nQ 54.890625 11.625 47.5625 5.09375 \nQ 40.234375 -1.421875 26.90625 -1.421875 \nQ 22.3125 -1.421875 17.546875 -0.640625 \nQ 12.796875 0.140625 7.71875 1.703125 \nL 7.71875 11.625 \nQ 12.109375 9.234375 16.796875 8.0625 \nQ 21.484375 6.890625 26.703125 6.890625 \nQ 35.15625 6.890625 40.078125 11.328125 \nQ 45.015625 15.765625 45.015625 23.390625 \nQ 45.015625 31 40.078125 35.4375 \nQ 35.15625 39.890625 26.703125 39.890625 \nQ 22.75 39.890625 18.8125 39.015625 \nQ 14.890625 38.140625 10.796875 36.28125 \nz\n\" id=\"DejaVuSans-53\"/>\n      </defs>\n      <g transform=\"translate(19.859436 147.866615)scale(0.1 -0.1)\">\n       <use xlink:href=\"#DejaVuSans-53\"/>\n       <use x=\"63.623047\" xlink:href=\"#DejaVuSans-48\"/>\n       <use x=\"127.246094\" xlink:href=\"#DejaVuSans-48\"/>\n      </g>\n     </g>\n    </g>\n   </g>\n   <g id=\"patch_8\">\n    <path d=\"M 45.946936 158.723278 \nL 45.946936 22.823278 \n\" style=\"fill:none;stroke:#000000;stroke-linecap:square;stroke-linejoin:miter;stroke-width:0.8;\"/>\n   </g>\n   <g id=\"patch_9\">\n    <path d=\"M 222.302016 158.723278 \nL 222.302016 22.823278 \n\" style=\"fill:none;stroke:#000000;stroke-linecap:square;stroke-linejoin:miter;stroke-width:0.8;\"/>\n   </g>\n   <g id=\"patch_10\">\n    <path d=\"M 45.946936 158.723278 \nL 222.302016 158.723278 \n\" style=\"fill:none;stroke:#000000;stroke-linecap:square;stroke-linejoin:miter;stroke-width:0.8;\"/>\n   </g>\n   <g id=\"patch_11\">\n    <path d=\"M 45.946936 22.823278 \nL 222.302016 22.823278 \n\" style=\"fill:none;stroke:#000000;stroke-linecap:square;stroke-linejoin:miter;stroke-width:0.8;\"/>\n   </g>\n   <g id=\"text_11\">\n    <g id=\"patch_12\">\n     <path d=\"M 24.349354 40.979676 \nL 87.22701 40.979676 \nL 87.22701 24.349363 \nL 24.349354 24.349363 \nz\n\" style=\"fill:#0000ff;\"/>\n    </g>\n    <!-- s=0.75, r=1 -->\n    <defs>\n     <path d=\"M 44.28125 53.078125 \nL 44.28125 44.578125 \nQ 40.484375 46.53125 36.375 47.5 \nQ 32.28125 48.484375 27.875 48.484375 \nQ 21.1875 48.484375 17.84375 46.4375 \nQ 14.5 44.390625 14.5 40.28125 \nQ 14.5 37.15625 16.890625 35.375 \nQ 19.28125 33.59375 26.515625 31.984375 \nL 29.59375 31.296875 \nQ 39.15625 29.25 43.1875 25.515625 \nQ 47.21875 21.78125 47.21875 15.09375 \nQ 47.21875 7.46875 41.1875 3.015625 \nQ 35.15625 -1.421875 24.609375 -1.421875 \nQ 20.21875 -1.421875 15.453125 -0.5625 \nQ 10.6875 0.296875 5.421875 2 \nL 5.421875 11.28125 \nQ 10.40625 8.6875 15.234375 7.390625 \nQ 20.0625 6.109375 24.8125 6.109375 \nQ 31.15625 6.109375 34.5625 8.28125 \nQ 37.984375 10.453125 37.984375 14.40625 \nQ 37.984375 18.0625 35.515625 20.015625 \nQ 33.0625 21.96875 24.703125 23.78125 \nL 21.578125 24.515625 \nQ 13.234375 26.265625 9.515625 29.90625 \nQ 5.8125 33.546875 5.8125 39.890625 \nQ 5.8125 47.609375 11.28125 51.796875 \nQ 16.75 56 26.8125 56 \nQ 31.78125 56 36.171875 55.265625 \nQ 40.578125 54.546875 44.28125 53.078125 \nz\n\" id=\"DejaVuSans-115\"/>\n     <path d=\"M 10.59375 45.40625 \nL 73.1875 45.40625 \nL 73.1875 37.203125 \nL 10.59375 37.203125 \nz\nM 10.59375 25.484375 \nL 73.1875 25.484375 \nL 73.1875 17.1875 \nL 10.59375 17.1875 \nz\n\" id=\"DejaVuSans-61\"/>\n     <path d=\"M 10.6875 12.40625 \nL 21 12.40625 \nL 21 0 \nL 10.6875 0 \nz\n\" id=\"DejaVuSans-46\"/>\n     <path d=\"M 8.203125 72.90625 \nL 55.078125 72.90625 \nL 55.078125 68.703125 \nL 28.609375 0 \nL 18.3125 0 \nL 43.21875 64.59375 \nL 8.203125 64.59375 \nz\n\" id=\"DejaVuSans-55\"/>\n     <path d=\"M 11.71875 12.40625 \nL 22.015625 12.40625 \nL 22.015625 4 \nL 14.015625 -11.625 \nL 7.71875 -11.625 \nL 11.71875 4 \nz\n\" id=\"DejaVuSans-44\"/>\n     <path id=\"DejaVuSans-32\"/>\n     <path d=\"M 41.109375 46.296875 \nQ 39.59375 47.171875 37.8125 47.578125 \nQ 36.03125 48 33.890625 48 \nQ 26.265625 48 22.1875 43.046875 \nQ 18.109375 38.09375 18.109375 28.8125 \nL 18.109375 0 \nL 9.078125 0 \nL 9.078125 54.6875 \nL 18.109375 54.6875 \nL 18.109375 46.1875 \nQ 20.953125 51.171875 25.484375 53.578125 \nQ 30.03125 56 36.53125 56 \nQ 37.453125 56 38.578125 55.875 \nQ 39.703125 55.765625 41.0625 55.515625 \nz\n\" id=\"DejaVuSans-114\"/>\n    </defs>\n    <g style=\"fill:#ffffff;\" transform=\"translate(28.309354 35.147957)scale(0.09 -0.09)\">\n     <use xlink:href=\"#DejaVuSans-115\"/>\n     <use x=\"52.099609\" xlink:href=\"#DejaVuSans-61\"/>\n     <use x=\"135.888672\" xlink:href=\"#DejaVuSans-48\"/>\n     <use x=\"199.511719\" xlink:href=\"#DejaVuSans-46\"/>\n     <use x=\"231.298828\" xlink:href=\"#DejaVuSans-55\"/>\n     <use x=\"294.921875\" xlink:href=\"#DejaVuSans-53\"/>\n     <use x=\"358.544922\" xlink:href=\"#DejaVuSans-44\"/>\n     <use x=\"390.332031\" xlink:href=\"#DejaVuSans-32\"/>\n     <use x=\"422.119141\" xlink:href=\"#DejaVuSans-114\"/>\n     <use x=\"463.232422\" xlink:href=\"#DejaVuSans-61\"/>\n     <use x=\"547.021484\" xlink:href=\"#DejaVuSans-49\"/>\n    </g>\n   </g>\n   <g id=\"text_12\">\n    <g id=\"patch_13\">\n     <path d=\"M 44.199978 57.967176 \nL 101.351384 57.967176 \nL 101.351384 41.336863 \nL 44.199978 41.336863 \nz\n\" style=\"fill:#008000;\"/>\n    </g>\n    <!-- s=0.5, r=1 -->\n    <g style=\"fill:#ffffff;\" transform=\"translate(48.159978 52.135457)scale(0.09 -0.09)\">\n     <use xlink:href=\"#DejaVuSans-115\"/>\n     <use x=\"52.099609\" xlink:href=\"#DejaVuSans-61\"/>\n     <use x=\"135.888672\" xlink:href=\"#DejaVuSans-48\"/>\n     <use x=\"199.511719\" xlink:href=\"#DejaVuSans-46\"/>\n     <use x=\"231.298828\" xlink:href=\"#DejaVuSans-53\"/>\n     <use x=\"294.921875\" xlink:href=\"#DejaVuSans-44\"/>\n     <use x=\"326.708984\" xlink:href=\"#DejaVuSans-32\"/>\n     <use x=\"358.496094\" xlink:href=\"#DejaVuSans-114\"/>\n     <use x=\"399.609375\" xlink:href=\"#DejaVuSans-61\"/>\n     <use x=\"483.398438\" xlink:href=\"#DejaVuSans-49\"/>\n    </g>\n   </g>\n   <g id=\"text_13\">\n    <g id=\"patch_14\">\n     <path d=\"M 58.324351 74.954678 \nL 121.202008 74.954678 \nL 121.202008 58.324365 \nL 58.324351 58.324365 \nz\n\" style=\"fill:#ff0000;\"/>\n    </g>\n    <!-- s=0.25, r=1 -->\n    <g style=\"fill:#ffffff;\" transform=\"translate(62.284351 69.122959)scale(0.09 -0.09)\">\n     <use xlink:href=\"#DejaVuSans-115\"/>\n     <use x=\"52.099609\" xlink:href=\"#DejaVuSans-61\"/>\n     <use x=\"135.888672\" xlink:href=\"#DejaVuSans-48\"/>\n     <use x=\"199.511719\" xlink:href=\"#DejaVuSans-46\"/>\n     <use x=\"231.298828\" xlink:href=\"#DejaVuSans-50\"/>\n     <use x=\"294.921875\" xlink:href=\"#DejaVuSans-53\"/>\n     <use x=\"358.544922\" xlink:href=\"#DejaVuSans-44\"/>\n     <use x=\"390.332031\" xlink:href=\"#DejaVuSans-32\"/>\n     <use x=\"422.119141\" xlink:href=\"#DejaVuSans-114\"/>\n     <use x=\"463.232422\" xlink:href=\"#DejaVuSans-61\"/>\n     <use x=\"547.021484\" xlink:href=\"#DejaVuSans-49\"/>\n    </g>\n   </g>\n   <g id=\"text_14\">\n    <g id=\"patch_15\">\n     <path d=\"M 3.24 55.906244 \nL 66.117656 55.906244 \nL 66.117656 39.275932 \nL 3.24 39.275932 \nz\n\" style=\"fill:#bf00bf;\"/>\n    </g>\n    <!-- s=0.75, r=2 -->\n    <g style=\"fill:#ffffff;\" transform=\"translate(7.2 50.074525)scale(0.09 -0.09)\">\n     <use xlink:href=\"#DejaVuSans-115\"/>\n     <use x=\"52.099609\" xlink:href=\"#DejaVuSans-61\"/>\n     <use x=\"135.888672\" xlink:href=\"#DejaVuSans-48\"/>\n     <use x=\"199.511719\" xlink:href=\"#DejaVuSans-46\"/>\n     <use x=\"231.298828\" xlink:href=\"#DejaVuSans-55\"/>\n     <use x=\"294.921875\" xlink:href=\"#DejaVuSans-53\"/>\n     <use x=\"358.544922\" xlink:href=\"#DejaVuSans-44\"/>\n     <use x=\"390.332031\" xlink:href=\"#DejaVuSans-32\"/>\n     <use x=\"422.119141\" xlink:href=\"#DejaVuSans-114\"/>\n     <use x=\"463.232422\" xlink:href=\"#DejaVuSans-61\"/>\n     <use x=\"547.021484\" xlink:href=\"#DejaVuSans-50\"/>\n    </g>\n   </g>\n   <g id=\"text_15\">\n    <g id=\"patch_16\">\n     <path d=\"M 34.982646 19.870312 \nL 106.446865 19.870312 \nL 106.446865 3.24 \nL 34.982646 3.24 \nz\n\" style=\"fill:#00bfbf;\"/>\n    </g>\n    <!-- s=0.75, r=0.5 -->\n    <g style=\"fill:#ffffff;\" transform=\"translate(38.942646 14.038594)scale(0.09 -0.09)\">\n     <use xlink:href=\"#DejaVuSans-115\"/>\n     <use x=\"52.099609\" xlink:href=\"#DejaVuSans-61\"/>\n     <use x=\"135.888672\" xlink:href=\"#DejaVuSans-48\"/>\n     <use x=\"199.511719\" xlink:href=\"#DejaVuSans-46\"/>\n     <use x=\"231.298828\" xlink:href=\"#DejaVuSans-55\"/>\n     <use x=\"294.921875\" xlink:href=\"#DejaVuSans-53\"/>\n     <use x=\"358.544922\" xlink:href=\"#DejaVuSans-44\"/>\n     <use x=\"390.332031\" xlink:href=\"#DejaVuSans-32\"/>\n     <use x=\"422.119141\" xlink:href=\"#DejaVuSans-114\"/>\n     <use x=\"463.232422\" xlink:href=\"#DejaVuSans-61\"/>\n     <use x=\"547.021484\" xlink:href=\"#DejaVuSans-48\"/>\n     <use x=\"610.644531\" xlink:href=\"#DejaVuSans-46\"/>\n     <use x=\"642.431641\" xlink:href=\"#DejaVuSans-53\"/>\n    </g>\n   </g>\n  </g>\n </g>\n <defs>\n  <clipPath id=\"p4d8cbc0b8f\">\n   <rect height=\"135.9\" width=\"176.35508\" x=\"45.946936\" y=\"22.823278\"/>\n  </clipPath>\n </defs>\n</svg>\n"
          },
          "metadata": {
            "tags": [],
            "needs_background": "light"
          }
        }
      ]
    },
    {
      "cell_type": "code",
      "metadata": {
        "id": "X6RsHKxNXOOX",
        "colab": {
          "base_uri": "https://localhost:8080/"
        },
        "outputId": "ff34ed8d-669f-4c87-808d-c8d07b5274f6"
      },
      "source": [
        "print(isinstance(4,int))\n",
        "l=[1,2,3]\n",
        "print(isinstance(l,(list,tuple)))\n",
        "l=[l]\n",
        "print('l : ',l)"
      ],
      "execution_count": null,
      "outputs": [
        {
          "output_type": "stream",
          "text": [
            "True\n",
            "True\n",
            "l :  [[1, 2, 3]]\n"
          ],
          "name": "stdout"
        }
      ]
    },
    {
      "cell_type": "code",
      "metadata": {
        "id": "yUEhw2LLLnOk",
        "colab": {
          "base_uri": "https://localhost:8080/"
        },
        "outputId": "a279f4ed-3140-4928-f229-3091f7a74e56"
      },
      "source": [
        "#https://www.geeksforgeeks.org/python-lambda-anonymous-functions-filter-map-reduce/\n",
        "# Python code to illustrate cube of a number \n",
        "# showing difference between def() and lambda(). \n",
        "def cube(y): \n",
        "    return y*y*y  \n",
        "lambda_cube = lambda y: y*y*y \n",
        "# using the normally \n",
        "# defined function \n",
        "print(cube(5)) \n",
        "# using the lamda function \n",
        "print(lambda_cube(5)) "
      ],
      "execution_count": null,
      "outputs": [
        {
          "output_type": "stream",
          "text": [
            "125\n",
            "125\n"
          ],
          "name": "stdout"
        }
      ]
    },
    {
      "cell_type": "markdown",
      "metadata": {
        "id": "ePoraUgU8iwQ"
      },
      "source": [
        "**Why Use Lambda Functions?**\n",
        "\n",
        "The power of lambda is better shown when you use them as an anonymous function inside another function.\n",
        "\n",
        "Say you have a function definition that takes one argument, and that argument will be multiplied with an unknown number:"
      ]
    },
    {
      "cell_type": "code",
      "metadata": {
        "id": "we2UKGoa4wKx",
        "colab": {
          "base_uri": "https://localhost:8080/"
        },
        "outputId": "ce74b145-3e2a-4e79-efb7-f351bbfa58d6"
      },
      "source": [
        "#https://www.w3schools.com/python/python_lambda.asp\n",
        "#A lambda function is a small anonymous function.\n",
        "#A lambda function can take any number of arguments, but can only have one expression.\n",
        "#lambda arguments : expression,  #######  The expression is executed and the result is returned:\n",
        "x=lambda a:a+10\n",
        "# Here a is the parameter\n",
        "print('x=lambda a:a+10          -> ',x(3))\n",
        "mul=lambda a,b:a*b \n",
        "print('mul=lambda a,b:a*b       -> ',mul(5,6))\n",
        "sum_=lambda a,b,c:a+b+c\n",
        "print('sum_=lambda a,b,c:a+b+c  -> ',sum_(2,3,5))\n",
        "print('################################')\n",
        "\n",
        "def myfunc(n):\n",
        "  return lambda a : a * n\n",
        "mydoubler = myfunc(2)\n",
        "mytripler = myfunc(3)\n",
        "print(mydoubler(11))\n",
        "print(mytripler(11))"
      ],
      "execution_count": null,
      "outputs": [
        {
          "output_type": "stream",
          "text": [
            "x=lambda a:a+10          ->  13\n",
            "mul=lambda a,b:a*b       ->  30\n",
            "sum_=lambda a,b,c:a+b+c  ->  10\n",
            "################################\n",
            "22\n",
            "33\n"
          ],
          "name": "stdout"
        }
      ]
    },
    {
      "cell_type": "code",
      "metadata": {
        "id": "l8fiCSoX4wRF"
      },
      "source": [
        ""
      ],
      "execution_count": null,
      "outputs": []
    },
    {
      "cell_type": "code",
      "metadata": {
        "id": "l8O14ay4fPT7"
      },
      "source": [
        ""
      ],
      "execution_count": null,
      "outputs": []
    }
  ]
}